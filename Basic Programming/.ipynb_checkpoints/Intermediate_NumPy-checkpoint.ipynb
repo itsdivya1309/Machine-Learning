{
 "cells": [
  {
   "cell_type": "code",
   "execution_count": 1,
   "id": "24ce1fc8-d0e3-4aba-8b7d-cb93f1acaa23",
   "metadata": {},
   "outputs": [
    {
     "data": {
      "text/plain": [
       "'1.26.4'"
      ]
     },
     "execution_count": 1,
     "metadata": {},
     "output_type": "execute_result"
    }
   ],
   "source": [
    "import numpy as np\n",
    "np.random.seed(0)\n",
    "np.__version__"
   ]
  },
  {
   "cell_type": "markdown",
   "id": "be177171-fccd-40ba-963a-cb167801242a",
   "metadata": {},
   "source": [
    "## Aggregations\n",
    "\n",
    "The first step is to compute sum\n",
    "mary statistics for the data in question. Perhaps the most common summary statistic \n",
    " are the mean and standard deviation, which allow you to summarize the “typical”aluesues in a dataset, but other aggregates are useful as well (the sum, product, medi ,\r\n",
    " minimum and maximum, quantiles, etc.)."
   ]
  },
  {
   "cell_type": "code",
   "execution_count": 2,
   "id": "d0e4f6d4-d736-4c54-aa3f-84d8eda101c8",
   "metadata": {},
   "outputs": [],
   "source": [
    "big_array = np.random.rand(1000000)"
   ]
  },
  {
   "cell_type": "code",
   "execution_count": 3,
   "id": "b28390d6-8fbe-4285-950d-646f5644712c",
   "metadata": {},
   "outputs": [
    {
     "data": {
      "text/plain": [
       "(1000000,)"
      ]
     },
     "execution_count": 3,
     "metadata": {},
     "output_type": "execute_result"
    }
   ],
   "source": [
    "big_array.shape"
   ]
  },
  {
   "cell_type": "code",
   "execution_count": 4,
   "id": "1f17242c-a8ff-4580-a85a-c464fc1a8733",
   "metadata": {},
   "outputs": [
    {
     "name": "stdout",
     "output_type": "stream",
     "text": [
      "Sum:  500387.69812077284\n",
      "Minimum value:  7.071203171893359e-07\n",
      "Maximum value:  0.9999997207656334\n"
     ]
    }
   ],
   "source": [
    "print('Sum: ',np.sum(big_array))\n",
    "print('Minimum value: ',np.min(big_array))\n",
    "print('Maximum value: ',np.max(big_array))"
   ]
  },
  {
   "cell_type": "code",
   "execution_count": 5,
   "id": "c28f8455-2164-46c4-8ac5-b44c0090241d",
   "metadata": {},
   "outputs": [
    {
     "name": "stdout",
     "output_type": "stream",
     "text": [
      "690 µs ± 8.43 µs per loop (mean ± std. dev. of 7 runs, 1,000 loops each)\n"
     ]
    }
   ],
   "source": [
    " %timeit np.min(big_array)"
   ]
  },
  {
   "cell_type": "code",
   "execution_count": 6,
   "id": "9c2bd22d-7855-4fc0-86b5-239aa44ed522",
   "metadata": {},
   "outputs": [
    {
     "name": "stdout",
     "output_type": "stream",
     "text": [
      "500387.69812077284 7.071203171893359e-07 0.9999997207656334\n"
     ]
    }
   ],
   "source": [
    "print(big_array.sum(), big_array.min(), big_array.max())"
   ]
  },
  {
   "cell_type": "code",
   "execution_count": 7,
   "id": "9a75b603-1af4-40da-8fdb-d673f1b5c6b5",
   "metadata": {},
   "outputs": [
    {
     "name": "stdout",
     "output_type": "stream",
     "text": [
      "[[0.68955605 0.97451698 0.80805917 0.18081918]\n",
      " [0.85541154 0.27965023 0.95573175 0.03659582]\n",
      " [0.60934925 0.59753225 0.07463842 0.43803321]]\n"
     ]
    }
   ],
   "source": [
    "# Multidimensional aggregates\n",
    "\n",
    "M = np.random.random((3, 4))\n",
    "print(M)"
   ]
  },
  {
   "cell_type": "code",
   "execution_count": 8,
   "id": "a3c28068-77dd-4247-968c-d056524d613a",
   "metadata": {},
   "outputs": [
    {
     "name": "stdout",
     "output_type": "stream",
     "text": [
      "6.499893854642225 0.0365958240427009 0.9745169832220086\n"
     ]
    }
   ],
   "source": [
    "print(M.sum(), M.min(), M.max())"
   ]
  },
  {
   "cell_type": "code",
   "execution_count": 9,
   "id": "80076587-3631-4dae-8557-d3b5c7c95cc5",
   "metadata": {},
   "outputs": [
    {
     "data": {
      "text/plain": [
       "array([0.60934925, 0.27965023, 0.07463842, 0.03659582])"
      ]
     },
     "execution_count": 9,
     "metadata": {},
     "output_type": "execute_result"
    }
   ],
   "source": [
    "# min within each column\n",
    "M.min(axis=0)"
   ]
  },
  {
   "cell_type": "code",
   "execution_count": 10,
   "id": "5f6b18b5-c6c9-4926-9f69-77f69f961670",
   "metadata": {},
   "outputs": [
    {
     "data": {
      "text/plain": [
       "array([0.97451698, 0.95573175, 0.60934925])"
      ]
     },
     "execution_count": 10,
     "metadata": {},
     "output_type": "execute_result"
    }
   ],
   "source": [
    "# max in each row\n",
    "M.max(axis=1)"
   ]
  },
  {
   "cell_type": "code",
   "execution_count": 11,
   "id": "a2acd24b-a4fe-4547-862d-ebad47293090",
   "metadata": {},
   "outputs": [
    {
     "data": {
      "text/plain": [
       "array([2, 1, 2, 1], dtype=int64)"
      ]
     },
     "execution_count": 11,
     "metadata": {},
     "output_type": "execute_result"
    }
   ],
   "source": [
    "M.argmin(axis=0) # index of min value of each column"
   ]
  },
  {
   "cell_type": "code",
   "execution_count": 12,
   "id": "ec6d42c8-ce78-4efc-babe-097bfb604d46",
   "metadata": {},
   "outputs": [
    {
     "data": {
      "text/plain": [
       "0.6034407494672613"
      ]
     },
     "execution_count": 12,
     "metadata": {},
     "output_type": "execute_result"
    }
   ],
   "source": [
    "np.median(M)"
   ]
  },
  {
   "cell_type": "markdown",
   "id": "e9ffa647-15b3-4360-9a2d-70d0e033fcbf",
   "metadata": {},
   "source": [
    "## Broadcasting\n",
    "\n",
    "Broadcasting is simply a set of rules for applying binary ufuncs on arrrays of different sizes."
   ]
  },
  {
   "cell_type": "code",
   "execution_count": 13,
   "id": "a1d8db32-fe72-4a13-ba7c-bae596f4eeff",
   "metadata": {},
   "outputs": [],
   "source": [
    "a = np.array([1,5,9])\n",
    "b = np.array([2, 4, 7])\n",
    "M = np.ones((3,3))"
   ]
  },
  {
   "cell_type": "code",
   "execution_count": 14,
   "id": "cd673a13-6a6e-4404-bf15-0bbc15973fa8",
   "metadata": {},
   "outputs": [
    {
     "name": "stdout",
     "output_type": "stream",
     "text": [
      "a\n",
      " [1 5 9]\n",
      "b\n",
      " [2 4 7]\n",
      "a+b\n",
      " [ 3  9 16]\n"
     ]
    }
   ],
   "source": [
    "print('a\\n',a)\n",
    "print('b\\n',b)\n",
    "print('a+b\\n',a+b)"
   ]
  },
  {
   "cell_type": "code",
   "execution_count": 15,
   "id": "b160ef78-7e72-4130-8ea9-5808a06af33c",
   "metadata": {},
   "outputs": [
    {
     "name": "stdout",
     "output_type": "stream",
     "text": [
      "M\n",
      " [[1. 1. 1.]\n",
      " [1. 1. 1.]\n",
      " [1. 1. 1.]]\n"
     ]
    }
   ],
   "source": [
    "print('M\\n',M)"
   ]
  },
  {
   "cell_type": "code",
   "execution_count": 16,
   "id": "87705247-a50a-4c44-bfcd-35b6a67e55b4",
   "metadata": {},
   "outputs": [
    {
     "data": {
      "text/plain": [
       "array([ 7, 11, 15])"
      ]
     },
     "execution_count": 16,
     "metadata": {},
     "output_type": "execute_result"
    }
   ],
   "source": [
    "a+6"
   ]
  },
  {
   "cell_type": "code",
   "execution_count": 17,
   "id": "971824f1-a70a-4046-b6df-45f203c77a4c",
   "metadata": {},
   "outputs": [
    {
     "data": {
      "text/plain": [
       "array([[ 2.,  6., 10.],\n",
       "       [ 2.,  6., 10.],\n",
       "       [ 2.,  6., 10.]])"
      ]
     },
     "execution_count": 17,
     "metadata": {},
     "output_type": "execute_result"
    }
   ],
   "source": [
    "M+a"
   ]
  },
  {
   "cell_type": "code",
   "execution_count": 18,
   "id": "0bc1a1e4-236c-4bc7-bb71-1410264f0445",
   "metadata": {},
   "outputs": [
    {
     "data": {
      "text/plain": [
       "array([[2],\n",
       "       [4],\n",
       "       [7]])"
      ]
     },
     "execution_count": 18,
     "metadata": {},
     "output_type": "execute_result"
    }
   ],
   "source": [
    "b = b.reshape((3,1))\n",
    "b"
   ]
  },
  {
   "cell_type": "code",
   "execution_count": 19,
   "id": "1cfb6b77-47ba-4aeb-a7f9-acb8d1e47670",
   "metadata": {},
   "outputs": [
    {
     "data": {
      "text/plain": [
       "array([[ 3,  7, 11],\n",
       "       [ 5,  9, 13],\n",
       "       [ 8, 12, 16]])"
      ]
     },
     "execution_count": 19,
     "metadata": {},
     "output_type": "execute_result"
    }
   ],
   "source": [
    "a+b"
   ]
  },
  {
   "cell_type": "code",
   "execution_count": 20,
   "id": "a34b2a19-42e1-43cd-adaa-b4e60580882e",
   "metadata": {},
   "outputs": [
    {
     "name": "stdout",
     "output_type": "stream",
     "text": [
      "M shape: (2, 3)\n",
      "a shape:  (3,)\n"
     ]
    }
   ],
   "source": [
    "# Example 1: 1D array and a 2D array\n",
    "\n",
    "M = np.ones((2,3))\n",
    "a = np.arange(3)\n",
    "print('M shape:',M.shape)\n",
    "print('a shape: ',a.shape)"
   ]
  },
  {
   "cell_type": "code",
   "execution_count": 21,
   "id": "3a3c99cf-49b5-4554-8d4b-3dd73a3b888c",
   "metadata": {},
   "outputs": [
    {
     "name": "stdout",
     "output_type": "stream",
     "text": [
      "[[1. 1. 1.]\n",
      " [1. 1. 1.]]\n",
      "[0 1 2]\n"
     ]
    }
   ],
   "source": [
    "print(M)\n",
    "print(a)"
   ]
  },
  {
   "cell_type": "code",
   "execution_count": 22,
   "id": "a1a3356c-5d4f-4136-bb17-2f0250c2fb56",
   "metadata": {},
   "outputs": [
    {
     "data": {
      "text/plain": [
       "array([[1., 2., 3.],\n",
       "       [1., 2., 3.]])"
      ]
     },
     "execution_count": 22,
     "metadata": {},
     "output_type": "execute_result"
    }
   ],
   "source": [
    "M+a"
   ]
  },
  {
   "cell_type": "code",
   "execution_count": 23,
   "id": "3519c29e-b418-4ed3-95b9-f9efce22db42",
   "metadata": {},
   "outputs": [
    {
     "data": {
      "text/plain": [
       "array([[1., 2., 3.],\n",
       "       [1., 2., 3.]])"
      ]
     },
     "execution_count": 23,
     "metadata": {},
     "output_type": "execute_result"
    }
   ],
   "source": [
    "a+M"
   ]
  },
  {
   "cell_type": "code",
   "execution_count": 24,
   "id": "035bea81-8ca6-4f95-86f6-0963c392a0ad",
   "metadata": {},
   "outputs": [],
   "source": [
    "# Example 2: both arrays need to be broadcast\n",
    "\n",
    "a = np.arange(3).reshape((3,1))\n",
    "b = np.arange(3)"
   ]
  },
  {
   "cell_type": "code",
   "execution_count": 25,
   "id": "df632fba-94a4-4df0-8253-2384fca2eda3",
   "metadata": {},
   "outputs": [
    {
     "name": "stdout",
     "output_type": "stream",
     "text": [
      "[[0]\n",
      " [1]\n",
      " [2]]\n",
      "[0 1 2]\n",
      "[[0 1 2]\n",
      " [1 2 3]\n",
      " [2 3 4]]\n"
     ]
    }
   ],
   "source": [
    "print(a)\n",
    "print(b)\n",
    "print(a+b)"
   ]
  },
  {
   "cell_type": "code",
   "execution_count": 26,
   "id": "09c585fe-f051-4f2a-a303-b5ad8ea1d6fb",
   "metadata": {},
   "outputs": [
    {
     "name": "stdout",
     "output_type": "stream",
     "text": [
      "[0 1 2]\n",
      "[[1. 1.]\n",
      " [1. 1.]\n",
      " [1. 1.]]\n"
     ]
    },
    {
     "ename": "ValueError",
     "evalue": "operands could not be broadcast together with shapes (3,2) (3,) ",
     "output_type": "error",
     "traceback": [
      "\u001b[1;31m---------------------------------------------------------------------------\u001b[0m",
      "\u001b[1;31mValueError\u001b[0m                                Traceback (most recent call last)",
      "Cell \u001b[1;32mIn[26], line 7\u001b[0m\n\u001b[0;32m      5\u001b[0m \u001b[38;5;28mprint\u001b[39m(a)\n\u001b[0;32m      6\u001b[0m \u001b[38;5;28mprint\u001b[39m(M)\n\u001b[1;32m----> 7\u001b[0m \u001b[38;5;28mprint\u001b[39m(M\u001b[38;5;241m+\u001b[39ma)\n",
      "\u001b[1;31mValueError\u001b[0m: operands could not be broadcast together with shapes (3,2) (3,) "
     ]
    }
   ],
   "source": [
    "# Example 3: two arrays are not compatible\n",
    "\n",
    "M = np.ones((3,2))\n",
    "a = np.arange(3)\n",
    "print(a)\n",
    "print(M)\n",
    "print(M+a)"
   ]
  },
  {
   "cell_type": "markdown",
   "id": "f7bc3c17-9cc1-452d-b8b9-79095077cb2d",
   "metadata": {},
   "source": [
    "### Use cases of Broadcasting\n",
    "\n",
    "1. Centering an array\n",
    "2. Plotting a 2-D function"
   ]
  },
  {
   "cell_type": "code",
   "execution_count": 27,
   "id": "bc0d7c45-cfb4-4f8c-8881-6f305de5e21d",
   "metadata": {},
   "outputs": [
    {
     "data": {
      "text/plain": [
       "array([[ 2, 39, 33],\n",
       "       [46, 49, 32],\n",
       "       [33, 22,  0],\n",
       "       [ 7, 29,  7],\n",
       "       [ 9, 34,  3],\n",
       "       [ 2, 14, 30],\n",
       "       [16, 38, 45],\n",
       "       [33, 21, 30],\n",
       "       [ 1, 36, 15],\n",
       "       [39, 18, 28]])"
      ]
     },
     "execution_count": 27,
     "metadata": {},
     "output_type": "execute_result"
    }
   ],
   "source": [
    "X = np.random.randint(0,50,(10,3))\n",
    "X"
   ]
  },
  {
   "cell_type": "code",
   "execution_count": 28,
   "id": "1ad72451-67bf-44e5-91d9-d0866b69fc89",
   "metadata": {},
   "outputs": [
    {
     "data": {
      "text/plain": [
       "array([18.8, 30. , 22.3])"
      ]
     },
     "execution_count": 28,
     "metadata": {},
     "output_type": "execute_result"
    }
   ],
   "source": [
    "# Finding mean of each column\n",
    "Xmean = X.mean(0)\n",
    "Xmean"
   ]
  },
  {
   "cell_type": "code",
   "execution_count": 29,
   "id": "b2d6d853-8b3f-40e3-a40d-0cb8df7eded8",
   "metadata": {},
   "outputs": [
    {
     "data": {
      "text/plain": [
       "array([-7.10542736e-16,  0.00000000e+00, -3.55271368e-16])"
      ]
     },
     "execution_count": 29,
     "metadata": {},
     "output_type": "execute_result"
    }
   ],
   "source": [
    "# Centering the data\n",
    "X = X-Xmean\n",
    "X.mean(0)"
   ]
  },
  {
   "cell_type": "code",
   "execution_count": 30,
   "id": "630f2a50-bbe6-42b5-8193-3feebcdde079",
   "metadata": {},
   "outputs": [
    {
     "name": "stdout",
     "output_type": "stream",
     "text": [
      "(50,)\n",
      "(50, 1)\n"
     ]
    }
   ],
   "source": [
    "# x and y have 50 steps from 0 to 5\n",
    "x = np.linspace(0, 5, 50)\n",
    "y = np.linspace(0, 5, 50).reshape(-1,1)\n",
    "print(x.shape)\n",
    "print(y.shape)"
   ]
  },
  {
   "cell_type": "code",
   "execution_count": 31,
   "id": "7bbfa8a2-7bef-4ef4-8091-18d40442c80c",
   "metadata": {},
   "outputs": [],
   "source": [
    "z = np.sin(x) ** 10 + np.cos(10 + y * x) * np.cos(x)"
   ]
  },
  {
   "cell_type": "code",
   "execution_count": 32,
   "id": "234bde2f-c26d-4b53-a3b9-b7412c726545",
   "metadata": {},
   "outputs": [
    {
     "data": {
      "text/plain": [
       "(50, 50)"
      ]
     },
     "execution_count": 32,
     "metadata": {},
     "output_type": "execute_result"
    }
   ],
   "source": [
    "a = y*x\n",
    "a.shape"
   ]
  },
  {
   "cell_type": "code",
   "execution_count": 33,
   "id": "2d93d282-31d3-43fb-961d-6de68e3d7843",
   "metadata": {},
   "outputs": [
    {
     "data": {
      "text/plain": [
       "(50, 50)"
      ]
     },
     "execution_count": 33,
     "metadata": {},
     "output_type": "execute_result"
    }
   ],
   "source": [
    "z.shape"
   ]
  },
  {
   "cell_type": "code",
   "execution_count": 34,
   "id": "a7cf6e86-f930-46d3-b59b-c7361185ac79",
   "metadata": {},
   "outputs": [
    {
     "data": {
      "image/png": "[encoded data removed]",
      "text/plain": [
       "<Figure size 640x480 with 2 Axes>"
      ]
     },
     "metadata": {},
     "output_type": "display_data"
    }
   ],
   "source": [
    "%matplotlib inline\n",
    "import matplotlib.pyplot as plt\n",
    "plt.imshow(z, origin='lower', extent=[0, 5, 0, 5], cmap='viridis')\n",
    "plt.colorbar();"
   ]
  },
  {
   "cell_type": "markdown",
   "id": "174aacaa-f9e7-419a-9c06-9ec40d9cb255",
   "metadata": {},
   "source": [
    "## Comparisons, Masks and Boolean Logic"
   ]
  },
  {
   "cell_type": "code",
   "execution_count": 35,
   "id": "d8b4630f-fd23-45ad-a53b-8dab64172706",
   "metadata": {},
   "outputs": [
    {
     "data": {
      "text/html": [
       "<div>\n",
       "<style scoped>\n",
       "    .dataframe tbody tr th:only-of-type {\n",
       "        vertical-align: middle;\n",
       "    }\n",
       "\n",
       "    .dataframe tbody tr th {\n",
       "        vertical-align: top;\n",
       "    }\n",
       "\n",
       "    .dataframe thead th {\n",
       "        text-align: right;\n",
       "    }\n",
       "</style>\n",
       "<table border=\"1\" class=\"dataframe\">\n",
       "  <thead>\n",
       "    <tr style=\"text-align: right;\">\n",
       "      <th></th>\n",
       "      <th>STATION</th>\n",
       "      <th>STATION_NAME</th>\n",
       "      <th>DATE</th>\n",
       "      <th>PRCP</th>\n",
       "      <th>SNWD</th>\n",
       "      <th>SNOW</th>\n",
       "      <th>TMAX</th>\n",
       "      <th>TMIN</th>\n",
       "      <th>AWND</th>\n",
       "      <th>WDF2</th>\n",
       "      <th>WDF5</th>\n",
       "      <th>WSF2</th>\n",
       "      <th>WSF5</th>\n",
       "      <th>WT01</th>\n",
       "      <th>WT05</th>\n",
       "      <th>WT02</th>\n",
       "      <th>WT03</th>\n",
       "    </tr>\n",
       "  </thead>\n",
       "  <tbody>\n",
       "    <tr>\n",
       "      <th>0</th>\n",
       "      <td>GHCND:USW00024233</td>\n",
       "      <td>SEATTLE TACOMA INTERNATIONAL AIRPORT WA US</td>\n",
       "      <td>20140101</td>\n",
       "      <td>0</td>\n",
       "      <td>0</td>\n",
       "      <td>0</td>\n",
       "      <td>72</td>\n",
       "      <td>33</td>\n",
       "      <td>12</td>\n",
       "      <td>340</td>\n",
       "      <td>310</td>\n",
       "      <td>36</td>\n",
       "      <td>40</td>\n",
       "      <td>-9999</td>\n",
       "      <td>-9999</td>\n",
       "      <td>-9999</td>\n",
       "      <td>-9999</td>\n",
       "    </tr>\n",
       "    <tr>\n",
       "      <th>1</th>\n",
       "      <td>GHCND:USW00024233</td>\n",
       "      <td>SEATTLE TACOMA INTERNATIONAL AIRPORT WA US</td>\n",
       "      <td>20140102</td>\n",
       "      <td>41</td>\n",
       "      <td>0</td>\n",
       "      <td>0</td>\n",
       "      <td>106</td>\n",
       "      <td>61</td>\n",
       "      <td>32</td>\n",
       "      <td>190</td>\n",
       "      <td>200</td>\n",
       "      <td>94</td>\n",
       "      <td>116</td>\n",
       "      <td>-9999</td>\n",
       "      <td>-9999</td>\n",
       "      <td>-9999</td>\n",
       "      <td>-9999</td>\n",
       "    </tr>\n",
       "    <tr>\n",
       "      <th>2</th>\n",
       "      <td>GHCND:USW00024233</td>\n",
       "      <td>SEATTLE TACOMA INTERNATIONAL AIRPORT WA US</td>\n",
       "      <td>20140103</td>\n",
       "      <td>15</td>\n",
       "      <td>0</td>\n",
       "      <td>0</td>\n",
       "      <td>89</td>\n",
       "      <td>28</td>\n",
       "      <td>26</td>\n",
       "      <td>30</td>\n",
       "      <td>50</td>\n",
       "      <td>63</td>\n",
       "      <td>72</td>\n",
       "      <td>1</td>\n",
       "      <td>-9999</td>\n",
       "      <td>-9999</td>\n",
       "      <td>-9999</td>\n",
       "    </tr>\n",
       "    <tr>\n",
       "      <th>3</th>\n",
       "      <td>GHCND:USW00024233</td>\n",
       "      <td>SEATTLE TACOMA INTERNATIONAL AIRPORT WA US</td>\n",
       "      <td>20140104</td>\n",
       "      <td>0</td>\n",
       "      <td>0</td>\n",
       "      <td>0</td>\n",
       "      <td>78</td>\n",
       "      <td>6</td>\n",
       "      <td>27</td>\n",
       "      <td>40</td>\n",
       "      <td>40</td>\n",
       "      <td>45</td>\n",
       "      <td>58</td>\n",
       "      <td>1</td>\n",
       "      <td>-9999</td>\n",
       "      <td>-9999</td>\n",
       "      <td>-9999</td>\n",
       "    </tr>\n",
       "    <tr>\n",
       "      <th>4</th>\n",
       "      <td>GHCND:USW00024233</td>\n",
       "      <td>SEATTLE TACOMA INTERNATIONAL AIRPORT WA US</td>\n",
       "      <td>20140105</td>\n",
       "      <td>0</td>\n",
       "      <td>0</td>\n",
       "      <td>0</td>\n",
       "      <td>83</td>\n",
       "      <td>-5</td>\n",
       "      <td>37</td>\n",
       "      <td>10</td>\n",
       "      <td>10</td>\n",
       "      <td>67</td>\n",
       "      <td>76</td>\n",
       "      <td>-9999</td>\n",
       "      <td>-9999</td>\n",
       "      <td>-9999</td>\n",
       "      <td>-9999</td>\n",
       "    </tr>\n",
       "  </tbody>\n",
       "</table>\n",
       "</div>"
      ],
      "text/plain": [
       "             STATION                                STATION_NAME      DATE  \\\n",
       "0  GHCND:USW00024233  SEATTLE TACOMA INTERNATIONAL AIRPORT WA US  20140101   \n",
       "1  GHCND:USW00024233  SEATTLE TACOMA INTERNATIONAL AIRPORT WA US  20140102   \n",
       "2  GHCND:USW00024233  SEATTLE TACOMA INTERNATIONAL AIRPORT WA US  20140103   \n",
       "3  GHCND:USW00024233  SEATTLE TACOMA INTERNATIONAL AIRPORT WA US  20140104   \n",
       "4  GHCND:USW00024233  SEATTLE TACOMA INTERNATIONAL AIRPORT WA US  20140105   \n",
       "\n",
       "   PRCP  SNWD  SNOW  TMAX  TMIN  AWND  WDF2  WDF5  WSF2  WSF5  WT01  WT05  \\\n",
       "0     0     0     0    72    33    12   340   310    36    40 -9999 -9999   \n",
       "1    41     0     0   106    61    32   190   200    94   116 -9999 -9999   \n",
       "2    15     0     0    89    28    26    30    50    63    72     1 -9999   \n",
       "3     0     0     0    78     6    27    40    40    45    58     1 -9999   \n",
       "4     0     0     0    83    -5    37    10    10    67    76 -9999 -9999   \n",
       "\n",
       "   WT02  WT03  \n",
       "0 -9999 -9999  \n",
       "1 -9999 -9999  \n",
       "2 -9999 -9999  \n",
       "3 -9999 -9999  \n",
       "4 -9999 -9999  "
      ]
     },
     "execution_count": 35,
     "metadata": {},
     "output_type": "execute_result"
    }
   ],
   "source": [
    "import pandas as pd\n",
    "\n",
    "# use Pandas to extract rainfall inches as a NumPy array\n",
    "rainfall = pd.read_csv('data/Seattle2014.csv')\n",
    "rainfall.head()"
   ]
  },
  {
   "cell_type": "code",
   "execution_count": 36,
   "id": "c216d13a-7df3-461e-af19-57c6c75535bd",
   "metadata": {},
   "outputs": [
    {
     "data": {
      "text/plain": [
       "(365,)"
      ]
     },
     "execution_count": 36,
     "metadata": {},
     "output_type": "execute_result"
    }
   ],
   "source": [
    "rainfall = pd.read_csv('data/Seattle2014.csv')['PRCP'].values\n",
    "inches = rainfall / 254  # 1/10mm -> inches\n",
    "inches.shape\n",
    "# The array contains 365 values, giving daily rainfall in inches from January 1 to December 31, 2014."
   ]
  },
  {
   "cell_type": "code",
   "execution_count": 37,
   "id": "74f30012-6d2e-4f8e-8692-ea923501e834",
   "metadata": {},
   "outputs": [
    {
     "data": {
      "text/plain": [
       "array([0.        , 0.16141732, 0.05905512, 0.        , 0.        ,\n",
       "       0.01181102, 0.48031496, 0.38188976, 0.22834646, 0.16929134])"
      ]
     },
     "execution_count": 37,
     "metadata": {},
     "output_type": "execute_result"
    }
   ],
   "source": [
    "inches[:10]"
   ]
  },
  {
   "cell_type": "code",
   "execution_count": 38,
   "id": "1a9e30dd-3ac7-42b9-89e4-1eead066d089",
   "metadata": {},
   "outputs": [],
   "source": [
    "%matplotlib inline\n",
    "import matplotlib.pyplot as plt\n",
    "import seaborn; seaborn.set()  # set plot styles"
   ]
  },
  {
   "cell_type": "code",
   "execution_count": 39,
   "id": "4797edd8-3be6-450a-a651-12c9bf761434",
   "metadata": {},
   "outputs": [
    {
     "data": {
      "text/plain": [
       "(array([245.,  14.,  13.,  17.,   8.,   6.,   5.,   6.,   4.,   3.,   7.,\n",
       "          6.,   3.,   3.,   3.,   4.,   4.,   2.,   4.,   0.,   0.,   1.,\n",
       "          1.,   1.,   0.,   0.,   0.,   2.,   1.,   1.,   0.,   0.,   0.,\n",
       "          0.,   0.,   0.,   0.,   0.,   0.,   1.]),\n",
       " array([0.        , 0.04596457, 0.09192913, 0.1378937 , 0.18385827,\n",
       "        0.22982283, 0.2757874 , 0.32175197, 0.36771654, 0.4136811 ,\n",
       "        0.45964567, 0.50561024, 0.5515748 , 0.59753937, 0.64350394,\n",
       "        0.6894685 , 0.73543307, 0.78139764, 0.8273622 , 0.87332677,\n",
       "        0.91929134, 0.96525591, 1.01122047, 1.05718504, 1.10314961,\n",
       "        1.14911417, 1.19507874, 1.24104331, 1.28700787, 1.33297244,\n",
       "        1.37893701, 1.42490157, 1.47086614, 1.51683071, 1.56279528,\n",
       "        1.60875984, 1.65472441, 1.70068898, 1.74665354, 1.79261811,\n",
       "        1.83858268]),\n",
       " <BarContainer object of 40 artists>)"
      ]
     },
     "execution_count": 39,
     "metadata": {},
     "output_type": "execute_result"
    },
    {
     "data": {
      "image/png": "[encoded data removed]",
      "text/plain": [
       "<Figure size 640x480 with 1 Axes>"
      ]
     },
     "metadata": {},
     "output_type": "display_data"
    }
   ],
   "source": [
    "plt.hist(inches, 40)"
   ]
  },
  {
   "cell_type": "code",
   "execution_count": 40,
   "id": "2cf70d64-f0d3-494f-90bd-65a4d47cc8f4",
   "metadata": {},
   "outputs": [
    {
     "data": {
      "text/plain": [
       "29"
      ]
     },
     "execution_count": 40,
     "metadata": {},
     "output_type": "execute_result"
    }
   ],
   "source": [
    "np.sum((inches>0.5)&(inches<1))"
   ]
  },
  {
   "cell_type": "code",
   "execution_count": 41,
   "id": "ad4dc5a7-3779-45d5-b43e-910bdffb4b7e",
   "metadata": {},
   "outputs": [
    {
     "name": "stdout",
     "output_type": "stream",
     "text": [
      "Number of days without rain:    215\n",
      "Number of days with rain:       150\n",
      "Days with more than 0.5 inches: 37\n",
      "Rainy days with < 0.1 inches  : 75\n"
     ]
    }
   ],
   "source": [
    "print(\"Number of days without rain:   \", np.sum(inches == 0))\n",
    "print(\"Number of days with rain:      \", np.sum(inches != 0))\n",
    "print(\"Days with more than 0.5 inches:\", np.sum(inches > 0.5))\n",
    "print(\"Rainy days with < 0.1 inches  :\", np.sum((inches > 0) & (inches < 0.2)))"
   ]
  },
  {
   "cell_type": "code",
   "execution_count": 42,
   "id": "9d5804f5-9a54-440e-ae68-e1d2fb590deb",
   "metadata": {},
   "outputs": [
    {
     "data": {
      "text/plain": [
       "array([False,  True,  True, False, False,  True,  True,  True,  True,\n",
       "        True,  True,  True, False, False, False, False, False, False,\n",
       "       False, False, False,  True, False, False, False, False, False,\n",
       "        True,  True, False,  True,  True, False, False, False, False,\n",
       "       False, False,  True,  True,  True,  True,  True,  True,  True,\n",
       "        True,  True,  True,  True,  True,  True,  True,  True,  True,\n",
       "        True,  True, False, False, False,  True,  True,  True,  True,\n",
       "        True,  True, False,  True,  True,  True, False, False,  True,\n",
       "        True,  True,  True,  True, False,  True, False, False, False,\n",
       "       False, False,  True,  True,  True,  True,  True, False, False,\n",
       "       False, False,  True, False,  True, False, False,  True, False,\n",
       "       False, False, False, False, False,  True,  True,  True, False,\n",
       "        True, False,  True,  True,  True,  True, False,  True,  True,\n",
       "       False, False, False, False, False,  True,  True,  True, False,\n",
       "       False,  True,  True,  True, False, False, False, False, False,\n",
       "       False, False, False, False, False, False, False,  True, False,\n",
       "        True, False, False, False, False, False, False, False, False,\n",
       "       False, False, False, False, False, False, False, False, False,\n",
       "        True,  True, False,  True,  True,  True, False,  True,  True,\n",
       "       False, False, False, False, False, False,  True,  True, False,\n",
       "       False, False, False, False, False, False, False, False, False,\n",
       "       False, False, False, False, False, False, False, False, False,\n",
       "       False, False, False, False,  True,  True, False, False, False,\n",
       "       False, False, False, False, False, False,  True, False, False,\n",
       "       False, False, False, False, False, False,  True,  True,  True,\n",
       "       False,  True, False, False, False, False, False, False, False,\n",
       "       False, False, False, False, False, False, False,  True,  True,\n",
       "       False,  True, False, False, False, False, False, False, False,\n",
       "       False, False, False, False, False, False, False,  True,  True,\n",
       "       False, False, False,  True,  True,  True,  True,  True, False,\n",
       "       False,  True, False, False, False, False, False, False, False,\n",
       "       False, False, False,  True,  True, False,  True,  True,  True,\n",
       "       False,  True,  True, False,  True,  True,  True,  True,  True,\n",
       "        True,  True,  True,  True,  True,  True,  True, False,  True,\n",
       "        True,  True,  True,  True, False, False,  True, False, False,\n",
       "       False, False, False, False, False, False, False, False,  True,\n",
       "        True,  True,  True,  True,  True,  True,  True,  True,  True,\n",
       "       False, False, False, False,  True,  True,  True, False,  True,\n",
       "        True,  True,  True, False, False, False, False, False,  True,\n",
       "        True,  True,  True, False, False,  True,  True, False, False,\n",
       "        True,  True, False, False, False])"
      ]
     },
     "execution_count": 42,
     "metadata": {},
     "output_type": "execute_result"
    }
   ],
   "source": [
    "# construct a mask of all rainy days\n",
    "rainy = (inches > 0)\n",
    "rainy"
   ]
  },
  {
   "cell_type": "code",
   "execution_count": 43,
   "id": "e80c8dd0-9884-4507-bdb0-6250caeb3f56",
   "metadata": {},
   "outputs": [
    {
     "data": {
      "text/plain": [
       "array([False, False, False, False, False, False, False, False, False,\n",
       "       False, False, False, False, False, False, False, False, False,\n",
       "       False, False, False, False, False, False, False, False, False,\n",
       "       False, False, False, False, False, False, False, False, False,\n",
       "       False, False, False, False, False, False, False, False, False,\n",
       "       False, False, False, False, False, False, False, False, False,\n",
       "       False, False, False, False, False, False, False, False, False,\n",
       "       False, False, False, False, False, False, False, False, False,\n",
       "       False, False, False, False, False, False, False, False, False,\n",
       "       False, False, False, False, False, False, False, False, False,\n",
       "       False, False, False, False, False, False, False, False, False,\n",
       "       False, False, False, False, False, False, False, False, False,\n",
       "       False, False, False, False, False, False, False, False, False,\n",
       "       False, False, False, False, False, False, False, False, False,\n",
       "       False, False, False, False, False, False, False, False, False,\n",
       "       False, False, False, False, False, False, False, False, False,\n",
       "       False, False, False, False, False, False, False, False, False,\n",
       "       False, False, False, False, False, False, False, False, False,\n",
       "       False, False, False, False, False, False, False, False, False,\n",
       "       False, False,  True,  True,  True,  True,  True,  True,  True,\n",
       "        True,  True,  True,  True,  True,  True,  True,  True,  True,\n",
       "        True,  True,  True,  True,  True,  True,  True,  True,  True,\n",
       "        True,  True,  True,  True,  True,  True,  True,  True,  True,\n",
       "        True,  True,  True,  True,  True,  True,  True,  True,  True,\n",
       "        True,  True,  True,  True,  True,  True,  True,  True,  True,\n",
       "        True,  True,  True,  True,  True,  True,  True,  True,  True,\n",
       "        True,  True,  True,  True,  True,  True,  True,  True,  True,\n",
       "        True,  True,  True,  True,  True,  True,  True,  True,  True,\n",
       "        True,  True,  True,  True,  True,  True,  True,  True,  True,\n",
       "        True, False, False, False, False, False, False, False, False,\n",
       "       False, False, False, False, False, False, False, False, False,\n",
       "       False, False, False, False, False, False, False, False, False,\n",
       "       False, False, False, False, False, False, False, False, False,\n",
       "       False, False, False, False, False, False, False, False, False,\n",
       "       False, False, False, False, False, False, False, False, False,\n",
       "       False, False, False, False, False, False, False, False, False,\n",
       "       False, False, False, False, False, False, False, False, False,\n",
       "       False, False, False, False, False, False, False, False, False,\n",
       "       False, False, False, False, False, False, False, False, False,\n",
       "       False, False, False, False, False, False, False, False, False,\n",
       "       False, False, False, False, False])"
      ]
     },
     "execution_count": 43,
     "metadata": {},
     "output_type": "execute_result"
    }
   ],
   "source": [
    "# construct a mask of all summer days (June 21st is the 172nd day)\n",
    "summer = (np.arange(365) - 172 < 90) & (np.arange(365) - 172 > 0)\n",
    "summer"
   ]
  },
  {
   "cell_type": "code",
   "execution_count": 44,
   "id": "4bd5ab4d-b0e5-4c2c-928f-d486c2080123",
   "metadata": {},
   "outputs": [
    {
     "name": "stdout",
     "output_type": "stream",
     "text": [
      "Median precip on rainy days in 2014 (inches):     0.19488188976377951\n",
      "Median precip on summer days in 2014 (inches):    0.0\n",
      "Maximum precip on summer days in 2014 (inches):   0.8503937007874016\n",
      "Median precip on non-summer rainy days (inches):  0.20078740157480315\n"
     ]
    }
   ],
   "source": [
    "print(\"Median precip on rainy days in 2014 (inches):    \",np.median(inches[rainy]))\n",
    "print(\"Median precip on summer days in 2014 (inches):   \",np.median(inches[summer]))\n",
    "print(\"Maximum precip on summer days in 2014 (inches):  \",np.max(inches[summer]))\n",
    "print(\"Median precip on non-summer rainy days (inches): \",np.median(inches[rainy & ~summer]))"
   ]
  },
  {
   "cell_type": "markdown",
   "id": "701a5643-e16b-46c1-bd23-31857736044d",
   "metadata": {},
   "source": [
    "## Sorting arrays and k-Nearest Neighbors"
   ]
  },
  {
   "cell_type": "code",
   "execution_count": 50,
   "id": "df98bc7d-23cd-4e4a-a587-de7ec851af0b",
   "metadata": {},
   "outputs": [
    {
     "data": {
      "text/plain": [
       "array([[0.5488135 , 0.71518937],\n",
       "       [0.60276338, 0.54488318],\n",
       "       [0.4236548 , 0.64589411],\n",
       "       [0.43758721, 0.891773  ],\n",
       "       [0.96366276, 0.38344152],\n",
       "       [0.79172504, 0.52889492],\n",
       "       [0.56804456, 0.92559664],\n",
       "       [0.07103606, 0.0871293 ],\n",
       "       [0.0202184 , 0.83261985],\n",
       "       [0.77815675, 0.87001215]])"
      ]
     },
     "execution_count": 50,
     "metadata": {},
     "output_type": "execute_result"
    }
   ],
   "source": [
    "rand = np.random.RandomState(0)\n",
    "X = rand.rand(10,2)\n",
    "X"
   ]
  },
  {
   "cell_type": "code",
   "execution_count": 51,
   "id": "25b8cdb8-aac3-4dfe-a0f9-0cd29fb381d1",
   "metadata": {},
   "outputs": [
    {
     "data": {
      "image/png": "[encoded data removed]",
      "text/plain": [
       "<Figure size 640x480 with 1 Axes>"
      ]
     },
     "metadata": {},
     "output_type": "display_data"
    }
   ],
   "source": [
    "%matplotlib inline\n",
    "import matplotlib.pyplot as plt\n",
    "import seaborn; seaborn.set() # Plot styling\n",
    "plt.scatter(X[:, 0], X[:, 1], s=100);"
   ]
  },
  {
   "cell_type": "markdown",
   "id": "a74f9a6b-0e56-4f55-a581-9ef3c998254c",
   "metadata": {},
   "source": [
    "The aim is to compute the distance between each pair of point"
   ]
  },
  {
   "cell_type": "code",
   "execution_count": 56,
   "id": "7ef15fcf-d6bc-4bb3-a701-2a3c762a5278",
   "metadata": {},
   "outputs": [
    {
     "data": {
      "text/plain": [
       "(10, 2)"
      ]
     },
     "execution_count": 56,
     "metadata": {},
     "output_type": "execute_result"
    }
   ],
   "source": [
    "X.shape"
   ]
  },
  {
   "cell_type": "code",
   "execution_count": 61,
   "id": "9c3d1460-30c4-4b35-85ab-24fe4471459f",
   "metadata": {},
   "outputs": [],
   "source": [
    "dist_sq = np.sum((X.reshape((10,1,2)) - X.reshape((1,10,2))) ** 2, axis=-1)"
   ]
  },
  {
   "cell_type": "code",
   "execution_count": 62,
   "id": "0b781354-bd3f-424b-ae8b-cc5e7a4bb062",
   "metadata": {},
   "outputs": [
    {
     "data": {
      "text/plain": [
       "(10, 10, 2)"
      ]
     },
     "execution_count": 62,
     "metadata": {},
     "output_type": "execute_result"
    }
   ],
   "source": [
    "# for each pair of points, compute differences in their coordinates\n",
    "differences = X[:, np.newaxis, :] - X[np.newaxis, :, :]\n",
    "differences.shape"
   ]
  },
  {
   "cell_type": "code",
   "execution_count": 63,
   "id": "4e86be0d-52ff-4d23-95b5-03e22ace7ca7",
   "metadata": {},
   "outputs": [
    {
     "data": {
      "text/plain": [
       "(10, 10, 2)"
      ]
     },
     "execution_count": 63,
     "metadata": {},
     "output_type": "execute_result"
    }
   ],
   "source": [
    "# square the coordinate differences\n",
    "sq_differences = differences ** 2\n",
    "sq_differences.shape"
   ]
  },
  {
   "cell_type": "code",
   "execution_count": 64,
   "id": "4956e25e-9ada-4350-ad56-6771362f2833",
   "metadata": {},
   "outputs": [
    {
     "data": {
      "text/plain": [
       "(10, 10)"
      ]
     },
     "execution_count": 64,
     "metadata": {},
     "output_type": "execute_result"
    }
   ],
   "source": [
    "# sum the coordinate differences to get the squared distance\n",
    "dist_sq = sq_differences.sum(-1)\n",
    "dist_sq.shape"
   ]
  },
  {
   "cell_type": "code",
   "execution_count": 65,
   "id": "f0bd373b-1ada-4b89-bbe5-562d246dd927",
   "metadata": {},
   "outputs": [
    {
     "data": {
      "text/plain": [
       "array([0., 0., 0., 0., 0., 0., 0., 0., 0., 0.])"
      ]
     },
     "execution_count": 65,
     "metadata": {},
     "output_type": "execute_result"
    }
   ],
   "source": [
    " dist_sq.diagonal()"
   ]
  },
  {
   "cell_type": "markdown",
   "id": "70c605d8-fdf0-40a5-be31-784d5931c664",
   "metadata": {},
   "source": [
    "With the pairwise square-distances converted, we can now use np.arg  sort to sort along each row.\n",
    " The leftmost columns will then give the indices of th \n",
    " nearest neighbos:"
   ]
  },
  {
   "cell_type": "code",
   "execution_count": 66,
   "id": "422f8044-3e5e-48e2-981f-21871e9c6945",
   "metadata": {},
   "outputs": [
    {
     "name": "stdout",
     "output_type": "stream",
     "text": [
      "[[0 2 1 3 6 9 5 4 8 7]\n",
      " [1 0 5 2 9 6 3 4 8 7]\n",
      " [2 0 1 3 6 5 9 8 4 7]\n",
      " [3 6 0 2 9 1 8 5 4 7]\n",
      " [4 5 1 9 0 2 6 3 7 8]\n",
      " [5 1 4 0 9 2 6 3 8 7]\n",
      " [6 3 0 9 2 1 5 8 4 7]\n",
      " [7 2 1 8 0 5 3 4 6 9]\n",
      " [8 3 2 0 6 1 7 9 5 4]\n",
      " [9 6 0 3 5 1 2 4 8 7]]\n"
     ]
    }
   ],
   "source": [
    "nearest = np.argsort(dist_sq, axis=1)\n",
    "print(nearest)"
   ]
  },
  {
   "cell_type": "markdown",
   "id": "d7f25377-576f-4e82-8bf3-6d5cb1099b4a",
   "metadata": {},
   "source": [
    "If we’re simply interested in the nearest k neighbors, all we need is to partition each\n",
    " row so that the smallest k + 1 squared distances come first, with larger distances fil\r\n",
    "ing the remaining positions of the arr.ay"
   ]
  },
  {
   "cell_type": "code",
   "execution_count": 67,
   "id": "61ff8ce8-cf75-451d-a74b-668d3f29cf4c",
   "metadata": {},
   "outputs": [],
   "source": [
    "K = 2\n",
    "nearest_partition = np.argpartition(dist_sq, K + 1, axis=1)"
   ]
  },
  {
   "cell_type": "code",
   "execution_count": 68,
   "id": "2a0b0562-d1ab-4218-88ba-63b349ca3d02",
   "metadata": {},
   "outputs": [
    {
     "data": {
      "image/png": "[encoded data removed]",
      "text/plain": [
       "<Figure size 640x480 with 1 Axes>"
      ]
     },
     "metadata": {},
     "output_type": "display_data"
    }
   ],
   "source": [
    "plt.scatter(X[:, 0], X[:, 1], s=100)\n",
    "# draw lines from each point to its two nearest neighbors\n",
    "K = 2\n",
    "for i in range(X.shape[0]):\n",
    "    for j in nearest_partition[i, :K+1]:\n",
    "        # plot a line from X[i] to X[j]\n",
    "        # use some zip magic to make it happen:\n",
    "        plt.plot(*zip(X[j], X[i]), color='black')"
   ]
  },
  {
   "cell_type": "code",
   "execution_count": null,
   "id": "0ff5214a-0722-48d0-b9b2-2ed260ceb135",
   "metadata": {},
   "outputs": [],
   "source": []
  }
 ],
 "metadata": {
  "kernelspec": {
   "display_name": "Python 3 (ipykernel)",
   "language": "python",
   "name": "python3"
  },
  "language_info": {
   "codemirror_mode": {
    "name": "ipython",
    "version": 3
   },
   "file_extension": ".py",
   "mimetype": "text/x-python",
   "name": "python",
   "nbconvert_exporter": "python",
   "pygments_lexer": "ipython3",
   "version": "3.12.2"
  }
 },
 "nbformat": 4,
 "nbformat_minor": 5
}
