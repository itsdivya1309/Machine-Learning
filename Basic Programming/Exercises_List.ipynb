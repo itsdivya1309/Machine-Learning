{
 "cells": [
  {
   "cell_type": "markdown",
   "id": "9530cd25-8c7c-4679-bad9-ddb4f3a67b5a",
   "metadata": {
    "jp-MarkdownHeadingCollapsed": true
   },
   "source": [
    "## 1. Interchange first and last element in a list\n",
    "\n",
    "Example:\n",
    "\n",
    "*Input*: [12, 35, 9, 56, 24]\n",
    "\n",
    "*Output*: [24, 35, 9, 56, 12]"
   ]
  },
  {
   "cell_type": "code",
   "execution_count": 1,
   "id": "12f533e9-2eb8-4ab2-8d4c-696467239895",
   "metadata": {},
   "outputs": [
    {
     "name": "stdout",
     "output_type": "stream",
     "text": [
      "[12, 35, 9, 56, 24]\n",
      "[24, 35, 9, 56, 12]\n"
     ]
    }
   ],
   "source": [
    "def swap_first_and_last(lst):\n",
    "    temp = lst[0]\n",
    "    lst[0] = lst[-1]\n",
    "    lst[-1] = temp\n",
    "    return lst\n",
    "\n",
    "lst = [12, 35, 9, 56, 24]\n",
    "print(lst)\n",
    "print(swap_first_and_last(lst))"
   ]
  },
  {
   "cell_type": "markdown",
   "id": "5fb9b6b8-ed74-4934-8da0-bd9ee8c47cd7",
   "metadata": {
    "jp-MarkdownHeadingCollapsed": true
   },
   "source": [
    "## 2. Swap two elements in a list\n",
    "\n",
    "Example:\n",
    "\n",
    "*Input*: [23, 65, 19, 90], n1 = 1, n2 = 3\n",
    "\n",
    "*Output*: [19, 65, 23, 90]"
   ]
  },
  {
   "cell_type": "code",
   "execution_count": 2,
   "id": "bd0dada6-de6f-4b6a-80f2-9c39aa9f8613",
   "metadata": {},
   "outputs": [
    {
     "name": "stdout",
     "output_type": "stream",
     "text": [
      "[23, 65, 19, 90]\n",
      "[19, 65, 23, 90]\n"
     ]
    }
   ],
   "source": [
    "def swap_two_elements(lst, n1, n2):\n",
    "    temp = lst[n1-1]\n",
    "    lst[n1-1] = lst[n2-1]\n",
    "    lst[n2-1] = temp\n",
    "    return lst\n",
    "\n",
    "lst = [23, 65, 19, 90]\n",
    "n1, n2 = 1, 3\n",
    "print(lst)\n",
    "print(swap_two_elements(lst, n1, n2))"
   ]
  },
  {
   "cell_type": "markdown",
   "id": "27695320-9fb4-4037-8f79-f5f61ea7ce82",
   "metadata": {
    "jp-MarkdownHeadingCollapsed": true
   },
   "source": [
    "## 3. Find the length of a list"
   ]
  },
  {
   "cell_type": "code",
   "execution_count": 3,
   "id": "0fdaa62e-538b-4023-b033-a71d2e598da9",
   "metadata": {},
   "outputs": [
    {
     "name": "stdout",
     "output_type": "stream",
     "text": [
      "[10, 20, 30, 40, 50, 60]\n",
      "6\n"
     ]
    }
   ],
   "source": [
    "def find_length(lst):\n",
    "    # method1\n",
    "    #length = len(lst)\n",
    "\n",
    "    #method2\n",
    "    length = 0\n",
    "    for i in lst:\n",
    "        length += 1\n",
    "        \n",
    "    return length\n",
    "\n",
    "lst = [10, 20, 30, 40, 50, 60]\n",
    "print(lst)\n",
    "print(find_length(lst))"
   ]
  },
  {
   "cell_type": "markdown",
   "id": "246d8371-a532-4f72-ab7b-db38d590555d",
   "metadata": {
    "jp-MarkdownHeadingCollapsed": true
   },
   "source": [
    "## 4. Find maximum of two numbers"
   ]
  },
  {
   "cell_type": "code",
   "execution_count": 4,
   "id": "15c6da7f-0cbe-4343-8abb-a1aed107eb1b",
   "metadata": {},
   "outputs": [
    {
     "data": {
      "text/plain": [
       "-14"
      ]
     },
     "execution_count": 4,
     "metadata": {},
     "output_type": "execute_result"
    }
   ],
   "source": [
    "def max_of_two(a, b):\n",
    "    if(a>=b):\n",
    "        return a\n",
    "    else:\n",
    "        return b\n",
    "\n",
    "    # method2: max(a,b)\n",
    "\n",
    "max_of_two(-14, -19)"
   ]
  },
  {
   "cell_type": "markdown",
   "id": "d75dac55-bdba-4834-a451-c34bc6adfe50",
   "metadata": {
    "jp-MarkdownHeadingCollapsed": true
   },
   "source": [
    "## 5. Check if element exists in list"
   ]
  },
  {
   "cell_type": "code",
   "execution_count": 5,
   "id": "86ca80f8-379d-4c95-9553-94fff30e01b0",
   "metadata": {},
   "outputs": [
    {
     "name": "stdout",
     "output_type": "stream",
     "text": [
      "False\n"
     ]
    }
   ],
   "source": [
    "def check_list(lst, a):\n",
    "    #method 1\n",
    "    if a in lst:\n",
    "        return True\n",
    "    else:\n",
    "        return False\n",
    "\n",
    "lst = [1, 6, 3, 5, 3, 4]\n",
    "a = 7\n",
    "print(check_list(lst, a))"
   ]
  },
  {
   "cell_type": "code",
   "execution_count": 6,
   "id": "7ac4844c-5c88-4310-8e1d-aebe1e6fdab3",
   "metadata": {},
   "outputs": [
    {
     "data": {
      "text/plain": [
       "1"
      ]
     },
     "execution_count": 6,
     "metadata": {},
     "output_type": "execute_result"
    }
   ],
   "source": [
    "from collections import Counter\n",
    "\n",
    "test_list = [10, 15, 20, 7, 46, 2808]\n",
    "\n",
    "# Calculating frequencies\n",
    "frequency = Counter(test_list)\n",
    "frequency[a]"
   ]
  },
  {
   "cell_type": "markdown",
   "id": "1a254c60-6432-4e14-8249-d6540619ebdf",
   "metadata": {
    "jp-MarkdownHeadingCollapsed": true
   },
   "source": [
    "## 6. Different ways to clear a list\n",
    "\n",
    "* clear()\n",
    "* reinitializing the list\n",
    "* del"
   ]
  },
  {
   "cell_type": "code",
   "execution_count": 7,
   "id": "8b5fb1c3-e1a4-47be-a042-bfbbd92df16f",
   "metadata": {},
   "outputs": [
    {
     "name": "stdout",
     "output_type": "stream",
     "text": [
      "[7, 12, 9, 10]\n",
      "[]\n"
     ]
    }
   ],
   "source": [
    "# Using clear\n",
    "lst = [7, 12, 9, 10]\n",
    "print(lst)\n",
    "lst.clear()\n",
    "print(lst)"
   ]
  },
  {
   "cell_type": "code",
   "execution_count": 8,
   "id": "85dc7cc7-6a5f-4d2a-8dff-fbfb9274370f",
   "metadata": {},
   "outputs": [
    {
     "name": "stdout",
     "output_type": "stream",
     "text": [
      "[7, 12, 9, 10]\n",
      "[]\n"
     ]
    }
   ],
   "source": [
    "# Reinitializing\n",
    "lst = [7, 12, 9, 10]\n",
    "print(lst)\n",
    "\n",
    "lst = []\n",
    "print(lst)"
   ]
  },
  {
   "cell_type": "code",
   "execution_count": 9,
   "id": "fbcda221-37ee-470a-a7a7-2bed1ba31f2a",
   "metadata": {},
   "outputs": [
    {
     "name": "stdout",
     "output_type": "stream",
     "text": [
      "List1:  [1, 2, 3]\n",
      "List1 after deleting:  []\n",
      "List2:  [5, 6, 7]\n",
      "List2 after deleting:  [5]\n"
     ]
    }
   ],
   "source": [
    "# Using del\n",
    "list1 = [1, 2, 3]\n",
    "list2 = [5, 6, 7]\n",
    "\n",
    "print('List1: ', list1)\n",
    "#deleting list1\n",
    "del list1[:]\n",
    "print('List1 after deleting: ', list1)\n",
    "\n",
    "print('List2: ', list2)\n",
    "#deleting elements of list2\n",
    "del list2[1:]\n",
    "print('List2 after deleting: ', list2)"
   ]
  },
  {
   "cell_type": "markdown",
   "id": "cd344de4-6813-4cd5-818a-70b7208023fa",
   "metadata": {
    "jp-MarkdownHeadingCollapsed": true
   },
   "source": [
    "## 7. Reversing a list\n",
    "\n",
    "* slicing technique\n",
    "* swapping present and last numbers at a time\n",
    "* reverse() built-in function\n",
    "* two pointer approach"
   ]
  },
  {
   "cell_type": "code",
   "execution_count": 10,
   "id": "2afdd9a3-047c-4bed-b5be-97f891356e20",
   "metadata": {},
   "outputs": [
    {
     "name": "stdout",
     "output_type": "stream",
     "text": [
      "[10, 11, 12, 13, 14, 15]\n",
      "[15, 14, 13, 12, 11, 10]\n"
     ]
    }
   ],
   "source": [
    "# Reversing a list using slicing technique\n",
    "lst = [10, 11, 12, 13, 14, 15]\n",
    "print(lst)\n",
    "new_lst = lst[::-1]\n",
    "print(new_lst)"
   ]
  },
  {
   "cell_type": "code",
   "execution_count": 11,
   "id": "a3ad72e9-ca74-4dcc-9d46-60691346f187",
   "metadata": {},
   "outputs": [
    {
     "name": "stdout",
     "output_type": "stream",
     "text": [
      "[10, 11, 12, 13, 14, 15]\n",
      "[15, 14, 13, 12, 11, 10]\n"
     ]
    }
   ],
   "source": [
    "# Swapping the elements\n",
    "\n",
    "def reverse_list(lst):\n",
    "    i=0\n",
    "    n = len(lst)\n",
    "    while(i<n//2):\n",
    "        lst[i], lst[n-1-i] = lst[n-1-i], lst[i]\n",
    "        i += 1\n",
    "    return lst\n",
    "\n",
    "print(lst)\n",
    "print(reverse_list(lst))"
   ]
  },
  {
   "cell_type": "code",
   "execution_count": 12,
   "id": "4763d635-59fb-4de3-b33d-e5d65ea05c5f",
   "metadata": {},
   "outputs": [
    {
     "name": "stdout",
     "output_type": "stream",
     "text": [
      "[10, 11, 12, 13, 14, 15]\n",
      "[15, 14, 13, 12, 11, 10]\n"
     ]
    }
   ],
   "source": [
    "# Using reverse()\n",
    "lst = [10, 11, 12, 13, 14, 15]\n",
    "print(lst)\n",
    "lst.reverse()\n",
    "print(lst)"
   ]
  },
  {
   "cell_type": "code",
   "execution_count": 13,
   "id": "9488d6f9-599c-446f-a529-9f08b71db966",
   "metadata": {},
   "outputs": [
    {
     "name": "stdout",
     "output_type": "stream",
     "text": [
      "[10, 11, 12, 13, 14, 15]\n",
      "[15, 14, 13, 12, 11, 10]\n"
     ]
    }
   ],
   "source": [
    "# Using two pointer approach\n",
    "def reverse_list(lst):\n",
    "    left = 0\n",
    "    right = len(lst)-1\n",
    "    while(left<right):\n",
    "        temp = lst[left]\n",
    "        lst[left] = lst[right]\n",
    "        lst[right] = temp\n",
    "        left += 1\n",
    "        right -= 1\n",
    "    return lst\n",
    "\n",
    "lst = [10, 11, 12, 13, 14, 15]\n",
    "print(lst)\n",
    "print(reverse_list(lst))"
   ]
  },
  {
   "cell_type": "markdown",
   "id": "27c1738f-780e-4cf8-aacb-6f1c6a9847db",
   "metadata": {
    "jp-MarkdownHeadingCollapsed": true
   },
   "source": [
    "## 8. Cloning or copying a list\n",
    "\n",
    "* Using slicing technique\n",
    "* Using copy() method\n",
    "* Using shallow copy or deep copy\n",
    "* Using assignment operator\n",
    "* Using map function"
   ]
  },
  {
   "cell_type": "code",
   "execution_count": 14,
   "id": "7cfb6901-a9cd-414a-aca4-52c5c5640d64",
   "metadata": {},
   "outputs": [],
   "source": [
    "lst = [1, 2, 3, 4, 5, 6, 7, 8, 9, 10]"
   ]
  },
  {
   "cell_type": "code",
   "execution_count": 15,
   "id": "dd7efb2d-4bc5-4c96-8700-55c47b7dcd00",
   "metadata": {},
   "outputs": [
    {
     "data": {
      "text/plain": [
       "[1, 2, 3, 4, 5, 6, 7, 8, 9, 10]"
      ]
     },
     "execution_count": 15,
     "metadata": {},
     "output_type": "execute_result"
    }
   ],
   "source": [
    "# Using slicing technique\n",
    "\n",
    "copy1 = lst[:]\n",
    "copy1"
   ]
  },
  {
   "cell_type": "code",
   "execution_count": 16,
   "id": "bcaaef8c-41fd-4e47-a57d-d9508d3aa6df",
   "metadata": {},
   "outputs": [
    {
     "data": {
      "text/plain": [
       "[1, 2, 3, 4, 5, 6, 7, 8, 9, 10]"
      ]
     },
     "execution_count": 16,
     "metadata": {},
     "output_type": "execute_result"
    }
   ],
   "source": [
    "# Using the copy() method\n",
    "\n",
    "copy2 = lst.copy()\n",
    "copy2"
   ]
  },
  {
   "cell_type": "code",
   "execution_count": 17,
   "id": "8dedf295-b604-4fd5-ab28-fc4eabbd8c92",
   "metadata": {},
   "outputs": [
    {
     "data": {
      "text/plain": [
       "[1, 2, 3, 4, 5, 6, 7, 8, 9, 10]"
      ]
     },
     "execution_count": 17,
     "metadata": {},
     "output_type": "execute_result"
    }
   ],
   "source": [
    "# Using shallow copy\n",
    "import copy\n",
    "\n",
    "shallow_copy = copy.copy(lst)\n",
    "shallow_copy"
   ]
  },
  {
   "cell_type": "code",
   "execution_count": 18,
   "id": "f966988c-b778-49b2-89f3-b08498449a44",
   "metadata": {},
   "outputs": [
    {
     "data": {
      "text/plain": [
       "[1, 2, 3, 4, 5, 6, 7, 8, 9, 10]"
      ]
     },
     "execution_count": 18,
     "metadata": {},
     "output_type": "execute_result"
    }
   ],
   "source": [
    "# Using deep copy\n",
    "deep_copy = copy.deepcopy(lst)\n",
    "deep_copy"
   ]
  },
  {
   "cell_type": "code",
   "execution_count": 19,
   "id": "a95294e4-7beb-4e19-92a4-9b6004c871c7",
   "metadata": {},
   "outputs": [
    {
     "data": {
      "text/plain": [
       "[1, 2, 3, 4, 5, 6, 7, 8, 9, 10]"
      ]
     },
     "execution_count": 19,
     "metadata": {},
     "output_type": "execute_result"
    }
   ],
   "source": [
    "# Using assignment operator\n",
    "copy3 = lst\n",
    "copy3"
   ]
  },
  {
   "cell_type": "code",
   "execution_count": 20,
   "id": "8a6ab7dd-2eab-4b8f-a70b-6e0ba5913563",
   "metadata": {},
   "outputs": [
    {
     "data": {
      "text/plain": [
       "[1, 2, 3, 4, 5, 6, 7, 8, 9, 10]"
      ]
     },
     "execution_count": 20,
     "metadata": {},
     "output_type": "execute_result"
    }
   ],
   "source": [
    "# Using map function\n",
    "copy4 = list(map(int, lst))\n",
    "copy4"
   ]
  },
  {
   "cell_type": "code",
   "execution_count": 21,
   "id": "e86084d6-bbfb-47a6-932c-d2c388f967ea",
   "metadata": {},
   "outputs": [
    {
     "name": "stdout",
     "output_type": "stream",
     "text": [
      "[1, 2, 3, 4, 13, 6, 7, 8, 9, 10]\n",
      "[1, 2, 3, 4, 5, 6, 7, 8, 9, 10]\n",
      "[1, 2, 3, 4, 5, 6, 7, 8, 9, 10]\n",
      "[1, 2, 3, 4, 5, 6, 7, 8, 9, 10]\n",
      "[1, 2, 3, 4, 5, 6, 7, 8, 9, 10]\n",
      "[1, 2, 3, 4, 13, 6, 7, 8, 9, 10]\n",
      "[1, 2, 3, 4, 5, 6, 7, 8, 9, 10]\n"
     ]
    }
   ],
   "source": [
    "lst[4] = 13\n",
    "print(lst)\n",
    "print(copy1)\n",
    "print(copy2)\n",
    "print(shallow_copy)\n",
    "print(deep_copy)\n",
    "print(copy3)\n",
    "print(copy4)"
   ]
  },
  {
   "cell_type": "code",
   "execution_count": 22,
   "id": "fef5df17-1e88-4399-9a55-ad4d9dd0a774",
   "metadata": {},
   "outputs": [
    {
     "name": "stdout",
     "output_type": "stream",
     "text": [
      "[[99, 2, 3], [4, 5, 6]]\n",
      "[[99, 2, 3], [4, 5, 6]]\n"
     ]
    }
   ],
   "source": [
    "original_list = [[1, 2, 3], [4, 5, 6]]\n",
    "shallow_copy = copy.copy(original_list)\n",
    "\n",
    "# Modifying an element in the original list\n",
    "original_list[0][0] = 99\n",
    "\n",
    "print(original_list)  # Output: [[99, 2, 3], [4, 5, 6]]\n",
    "print(shallow_copy)   # Output: [[99, 2, 3], [4, 5, 6]]"
   ]
  },
  {
   "cell_type": "code",
   "execution_count": 23,
   "id": "10e32ce4-312e-4714-8f44-8248a06c5e30",
   "metadata": {},
   "outputs": [
    {
     "name": "stdout",
     "output_type": "stream",
     "text": [
      "[[99, 2, 3], [4, 5, 6]]\n",
      "[[1, 2, 3], [4, 5, 6]]\n"
     ]
    }
   ],
   "source": [
    "original_list = [[1, 2, 3], [4, 5, 6]]\n",
    "deep_copy = copy.deepcopy(original_list)\n",
    "\n",
    "# Modifying an element in the original list\n",
    "original_list[0][0] = 99\n",
    "\n",
    "print(original_list)  # Output: [[99, 2, 3], [4, 5, 6]]\n",
    "print(deep_copy)      # Output: [[1, 2, 3], [4, 5, 6]]"
   ]
  },
  {
   "cell_type": "markdown",
   "id": "f637261c-8dc5-42ce-94be-3338145dfa89",
   "metadata": {},
   "source": [
    "## 9. Count occurences of an element in a list"
   ]
  },
  {
   "cell_type": "code",
   "execution_count": null,
   "id": "6c943d9b-6e90-4f74-8cc8-74f64864dd84",
   "metadata": {},
   "outputs": [],
   "source": []
  }
 ],
 "metadata": {
  "kernelspec": {
   "display_name": "Python 3 (ipykernel)",
   "language": "python",
   "name": "python3"
  },
  "language_info": {
   "codemirror_mode": {
    "name": "ipython",
    "version": 3
   },
   "file_extension": ".py",
   "mimetype": "text/x-python",
   "name": "python",
   "nbconvert_exporter": "python",
   "pygments_lexer": "ipython3",
   "version": "3.12.2"
  }
 },
 "nbformat": 4,
 "nbformat_minor": 5
}
