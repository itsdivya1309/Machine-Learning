{
 "cells": [
  {
   "cell_type": "code",
   "execution_count": 1,
   "id": "745d702a-88b7-496d-890e-a465db823f41",
   "metadata": {},
   "outputs": [
    {
     "data": {
      "text/plain": [
       "'1.26.4'"
      ]
     },
     "execution_count": 1,
     "metadata": {},
     "output_type": "execute_result"
    }
   ],
   "source": [
    "import numpy as np\n",
    "np.__version__"
   ]
  },
  {
   "cell_type": "markdown",
   "id": "579024a4-7538-4aba-9a02-12366043bfed",
   "metadata": {},
   "source": [
    "## Creating numpy arrays\n",
    "\n",
    "1. Array from Python list\n",
    "2. Array from in-built numpy functions\n",
    "   - np.zeros\n",
    "   - np.ones\n",
    "   - np.full\n",
    "   - np.empty\n",
    "   - np.arange\n",
    "   - np.linspace\n",
    "   - np.random.randint\n",
    "   - np.eye\n",
    "   - np.random.random\n",
    "   - np.random.normal"
   ]
  },
  {
   "cell_type": "code",
   "execution_count": 2,
   "id": "7ece0782-23c9-401e-bec0-612bc48b04c6",
   "metadata": {},
   "outputs": [
    {
     "data": {
      "text/plain": [
       "array([ 1,  5,  9, 13])"
      ]
     },
     "execution_count": 2,
     "metadata": {},
     "output_type": "execute_result"
    }
   ],
   "source": [
    "# Array from Python list\n",
    "lst = [1,5,9,13]\n",
    "arr = np.array(lst)\n",
    "arr"
   ]
  },
  {
   "cell_type": "code",
   "execution_count": 3,
   "id": "4277a89d-22dd-4832-aa79-c921c7bad2d6",
   "metadata": {},
   "outputs": [
    {
     "data": {
      "text/plain": [
       "array([ 3.14,  2.18, 10.  ])"
      ]
     },
     "execution_count": 3,
     "metadata": {},
     "output_type": "execute_result"
    }
   ],
   "source": [
    "lst1 = [3.14, 2.18, 10]\n",
    "# Numpy arrays contain homogenous data, i.e. data of the same type\n",
    "# Hence, it upcasts the data whenever possible\n",
    "arr1 = np.array(lst1)\n",
    "arr1"
   ]
  },
  {
   "cell_type": "code",
   "execution_count": 13,
   "id": "668571e3-d866-4738-9609-39c82901e19f",
   "metadata": {},
   "outputs": [
    {
     "data": {
      "text/plain": [
       "array([ 3,  2, 10])"
      ]
     },
     "execution_count": 13,
     "metadata": {},
     "output_type": "execute_result"
    }
   ],
   "source": [
    "# We can specify the dtype explicitly\n",
    "arr2 = np.array(lst1, dtype = int)\n",
    "arr2"
   ]
  },
  {
   "cell_type": "code",
   "execution_count": 8,
   "id": "20c3db94-ff93-45e9-bee7-3fbb5065bd80",
   "metadata": {},
   "outputs": [
    {
     "data": {
      "text/plain": [
       "array([[2, 3, 4],\n",
       "       [4, 5, 6],\n",
       "       [6, 7, 8]])"
      ]
     },
     "execution_count": 8,
     "metadata": {},
     "output_type": "execute_result"
    }
   ],
   "source": [
    "# Multidimensional array\n",
    "arr3 = np.array([range(i,i+3) for i in [2,4,6]])\n",
    "arr3"
   ]
  },
  {
   "cell_type": "code",
   "execution_count": 14,
   "id": "dd0545ee-7bc3-4de3-80e8-fd33a06f2bae",
   "metadata": {},
   "outputs": [
    {
     "data": {
      "text/plain": [
       "array([0, 0, 0, 0, 0, 0, 0, 0, 0, 0])"
      ]
     },
     "execution_count": 14,
     "metadata": {},
     "output_type": "execute_result"
    }
   ],
   "source": [
    "# Creating numpy arrays from scratch\n",
    "\n",
    "# Creating an array filled with zeros\n",
    "zero = np.zeros(10, dtype=int)\n",
    "zero"
   ]
  },
  {
   "cell_type": "code",
   "execution_count": 15,
   "id": "bc248344-493e-4547-bf68-e3807aa35019",
   "metadata": {},
   "outputs": [
    {
     "data": {
      "text/plain": [
       "array([[0., 0., 0., 0.],\n",
       "       [0., 0., 0., 0.]])"
      ]
     },
     "execution_count": 15,
     "metadata": {},
     "output_type": "execute_result"
    }
   ],
   "source": [
    "zero1 = np.zeros((2,4), dtype=float)\n",
    "zero1"
   ]
  },
  {
   "cell_type": "code",
   "execution_count": 16,
   "id": "f2d68c69-2c8c-4cd4-90b3-1aecabeeb185",
   "metadata": {},
   "outputs": [
    {
     "data": {
      "text/plain": [
       "array([[1., 1., 1., 1., 1.],\n",
       "       [1., 1., 1., 1., 1.],\n",
       "       [1., 1., 1., 1., 1.]])"
      ]
     },
     "execution_count": 16,
     "metadata": {},
     "output_type": "execute_result"
    }
   ],
   "source": [
    "# Array filled with ones\n",
    "\n",
    "one = np.ones((3,5), dtype=float)\n",
    "one"
   ]
  },
  {
   "cell_type": "code",
   "execution_count": 18,
   "id": "633d799b-bf6c-48db-984e-1194ad3b5679",
   "metadata": {},
   "outputs": [
    {
     "data": {
      "text/plain": [
       "array([[3.14, 3.14, 3.14, 3.14, 3.14],\n",
       "       [3.14, 3.14, 3.14, 3.14, 3.14]])"
      ]
     },
     "execution_count": 18,
     "metadata": {},
     "output_type": "execute_result"
    }
   ],
   "source": [
    "# Array filled with a constant value\n",
    "\n",
    "pi = np.full((2,5), 3.14)\n",
    "pi"
   ]
  },
  {
   "cell_type": "code",
   "execution_count": 20,
   "id": "473fb287-9f90-4307-bd33-c50507d3687e",
   "metadata": {},
   "outputs": [
    {
     "data": {
      "text/plain": [
       "array([ 2,  5,  8, 11, 14, 17])"
      ]
     },
     "execution_count": 20,
     "metadata": {},
     "output_type": "execute_result"
    }
   ],
   "source": [
    "# Array filled with a linear sequence\n",
    "arr4 = np.arange(2,20,3)\n",
    "arr4"
   ]
  },
  {
   "cell_type": "code",
   "execution_count": 22,
   "id": "3f453a71-c212-4e34-97fc-bcbfbf685822",
   "metadata": {},
   "outputs": [
    {
     "data": {
      "text/plain": [
       "array([ 3,  6,  9, 12, 15, 18, 21, 24, 27, 30])"
      ]
     },
     "execution_count": 22,
     "metadata": {},
     "output_type": "execute_result"
    }
   ],
   "source": [
    "# An array of 10 values evenly spaced between 3 and 30\n",
    "arr5 = np.linspace(3,30,10, dtype=int)\n",
    "arr5"
   ]
  },
  {
   "cell_type": "code",
   "execution_count": 23,
   "id": "43fc4971-b77d-4532-9140-6fe74395f810",
   "metadata": {},
   "outputs": [
    {
     "data": {
      "text/plain": [
       "array([[0.39489586, 0.63561958, 0.6934316 ],\n",
       "       [0.04518314, 0.27689679, 0.32632825]])"
      ]
     },
     "execution_count": 23,
     "metadata": {},
     "output_type": "execute_result"
    }
   ],
   "source": [
    "# An array of uniformly distributed random values between 0 and 1\n",
    "arr6 = np.random.random((2,3))\n",
    "arr6"
   ]
  },
  {
   "cell_type": "code",
   "execution_count": 25,
   "id": "77667613-0db3-46c0-9e10-224556c1aac1",
   "metadata": {},
   "outputs": [
    {
     "data": {
      "text/plain": [
       "array([[-0.60408571, -1.06137189, -0.49557507,  2.17087648],\n",
       "       [-0.53922924,  0.99014732, -1.26125681, -0.71980448],\n",
       "       [-1.08223954,  0.11879513, -0.15567502,  1.27807167]])"
      ]
     },
     "execution_count": 25,
     "metadata": {},
     "output_type": "execute_result"
    }
   ],
   "source": [
    "# An array of normally distributed random values with mean = 0 and std = 1.5\n",
    "arr7 = np.random.normal(0,1.5,(3,4))\n",
    "arr7"
   ]
  },
  {
   "cell_type": "code",
   "execution_count": 26,
   "id": "d8b71fd7-67bf-4730-9d21-25483912e957",
   "metadata": {},
   "outputs": [
    {
     "data": {
      "text/plain": [
       "array([[22, 44, 13, 37, 27],\n",
       "       [33, 48, 35, 16,  9]])"
      ]
     },
     "execution_count": 26,
     "metadata": {},
     "output_type": "execute_result"
    }
   ],
   "source": [
    "# An array of random integers in the range[5,50)\n",
    "arr8 = np.random.randint(5,50,(2,5))\n",
    "arr8"
   ]
  },
  {
   "cell_type": "code",
   "execution_count": 28,
   "id": "b70d66cb-03ee-4096-a936-0ed8e0821e4c",
   "metadata": {},
   "outputs": [
    {
     "data": {
      "text/plain": [
       "array([[1, 0, 0, 0],\n",
       "       [0, 1, 0, 0],\n",
       "       [0, 0, 1, 0],\n",
       "       [0, 0, 0, 1]])"
      ]
     },
     "execution_count": 28,
     "metadata": {},
     "output_type": "execute_result"
    }
   ],
   "source": [
    "# Identity matrix\n",
    "I = np.eye(4, dtype=int)\n",
    "I"
   ]
  },
  {
   "cell_type": "code",
   "execution_count": 29,
   "id": "287e583b-c81b-41df-bf90-f6af1dd69e33",
   "metadata": {},
   "outputs": [
    {
     "data": {
      "text/plain": [
       "array([[0.60408571, 1.06137189, 0.49557507, 2.17087648],\n",
       "       [0.53922924, 0.99014732, 1.26125681, 0.71980448],\n",
       "       [1.08223954, 0.11879513, 0.15567502, 1.27807167]])"
      ]
     },
     "execution_count": 29,
     "metadata": {},
     "output_type": "execute_result"
    }
   ],
   "source": [
    "# An uninitialized array\n",
    "arr9 = np.empty((3,4))\n",
    "arr9"
   ]
  },
  {
   "cell_type": "markdown",
   "id": "3bcbef00-8f43-41d6-b59e-b470216704e4",
   "metadata": {},
   "source": [
    "## Basics of Numpy arrays"
   ]
  },
  {
   "cell_type": "code",
   "execution_count": null,
   "id": "4f74ee17-fa03-4ed1-beac-d81b49a08eda",
   "metadata": {},
   "outputs": [],
   "source": []
  }
 ],
 "metadata": {
  "kernelspec": {
   "display_name": "Python 3 (ipykernel)",
   "language": "python",
   "name": "python3"
  },
  "language_info": {
   "codemirror_mode": {
    "name": "ipython",
    "version": 3
   },
   "file_extension": ".py",
   "mimetype": "text/x-python",
   "name": "python",
   "nbconvert_exporter": "python",
   "pygments_lexer": "ipython3",
   "version": "3.12.2"
  }
 },
 "nbformat": 4,
 "nbformat_minor": 5
}
