{
 "cells": [
  {
   "cell_type": "code",
   "execution_count": 1,
   "id": "745d702a-88b7-496d-890e-a465db823f41",
   "metadata": {},
   "outputs": [
    {
     "data": {
      "text/plain": [
       "'1.26.4'"
      ]
     },
     "execution_count": 1,
     "metadata": {},
     "output_type": "execute_result"
    }
   ],
   "source": [
    "import numpy as np\n",
    "np.__version__"
   ]
  },
  {
   "cell_type": "markdown",
   "id": "579024a4-7538-4aba-9a02-12366043bfed",
   "metadata": {},
   "source": [
    "## Creating numpy arrays\n",
    "\n",
    "1. Array from Python list\n",
    "2. Array from in-built numpy functions\n",
    "   - np.zeros\n",
    "   - np.ones\n",
    "   - np.full\n",
    "   - np.empty\n",
    "   - np.arange\n",
    "   - np.linspace\n",
    "   - np.random.randint\n",
    "   - np.eye\n",
    "   - np.random.random\n",
    "   - np.random.normal"
   ]
  },
  {
   "cell_type": "code",
   "execution_count": 2,
   "id": "7ece0782-23c9-401e-bec0-612bc48b04c6",
   "metadata": {},
   "outputs": [
    {
     "data": {
      "text/plain": [
       "array([ 1,  5,  9, 13])"
      ]
     },
     "execution_count": 2,
     "metadata": {},
     "output_type": "execute_result"
    }
   ],
   "source": [
    "# Array from Python list\n",
    "lst = [1,5,9,13]\n",
    "arr = np.array(lst)\n",
    "arr"
   ]
  },
  {
   "cell_type": "code",
   "execution_count": 3,
   "id": "4277a89d-22dd-4832-aa79-c921c7bad2d6",
   "metadata": {},
   "outputs": [
    {
     "data": {
      "text/plain": [
       "array([ 3.14,  2.18, 10.  ])"
      ]
     },
     "execution_count": 3,
     "metadata": {},
     "output_type": "execute_result"
    }
   ],
   "source": [
    "lst1 = [3.14, 2.18, 10]\n",
    "# Numpy arrays contain homogenous data, i.e. data of the same type\n",
    "# Hence, it upcasts the data whenever possible\n",
    "arr1 = np.array(lst1)\n",
    "arr1"
   ]
  },
  {
   "cell_type": "code",
   "execution_count": 4,
   "id": "668571e3-d866-4738-9609-39c82901e19f",
   "metadata": {},
   "outputs": [
    {
     "data": {
      "text/plain": [
       "array([ 3,  2, 10])"
      ]
     },
     "execution_count": 4,
     "metadata": {},
     "output_type": "execute_result"
    }
   ],
   "source": [
    "# We can specify the dtype explicitly\n",
    "arr2 = np.array(lst1, dtype = int)\n",
    "arr2"
   ]
  },
  {
   "cell_type": "code",
   "execution_count": 5,
   "id": "20c3db94-ff93-45e9-bee7-3fbb5065bd80",
   "metadata": {},
   "outputs": [
    {
     "data": {
      "text/plain": [
       "array([[2, 3, 4],\n",
       "       [4, 5, 6],\n",
       "       [6, 7, 8]])"
      ]
     },
     "execution_count": 5,
     "metadata": {},
     "output_type": "execute_result"
    }
   ],
   "source": [
    "# Multidimensional array\n",
    "arr3 = np.array([range(i,i+3) for i in [2,4,6]])\n",
    "arr3"
   ]
  },
  {
   "cell_type": "code",
   "execution_count": 6,
   "id": "dd0545ee-7bc3-4de3-80e8-fd33a06f2bae",
   "metadata": {},
   "outputs": [
    {
     "data": {
      "text/plain": [
       "array([0, 0, 0, 0, 0, 0, 0, 0, 0, 0])"
      ]
     },
     "execution_count": 6,
     "metadata": {},
     "output_type": "execute_result"
    }
   ],
   "source": [
    "# Creating numpy arrays from scratch\n",
    "\n",
    "# Creating an array filled with zeros\n",
    "zero = np.zeros(10, dtype=int)\n",
    "zero"
   ]
  },
  {
   "cell_type": "code",
   "execution_count": 7,
   "id": "bc248344-493e-4547-bf68-e3807aa35019",
   "metadata": {},
   "outputs": [
    {
     "data": {
      "text/plain": [
       "array([[0., 0., 0., 0.],\n",
       "       [0., 0., 0., 0.]])"
      ]
     },
     "execution_count": 7,
     "metadata": {},
     "output_type": "execute_result"
    }
   ],
   "source": [
    "zero1 = np.zeros((2,4), dtype=float)\n",
    "zero1"
   ]
  },
  {
   "cell_type": "code",
   "execution_count": 8,
   "id": "f2d68c69-2c8c-4cd4-90b3-1aecabeeb185",
   "metadata": {},
   "outputs": [
    {
     "data": {
      "text/plain": [
       "array([[1., 1., 1., 1., 1.],\n",
       "       [1., 1., 1., 1., 1.],\n",
       "       [1., 1., 1., 1., 1.]])"
      ]
     },
     "execution_count": 8,
     "metadata": {},
     "output_type": "execute_result"
    }
   ],
   "source": [
    "# Array filled with ones\n",
    "\n",
    "one = np.ones((3,5), dtype=float)\n",
    "one"
   ]
  },
  {
   "cell_type": "code",
   "execution_count": 9,
   "id": "633d799b-bf6c-48db-984e-1194ad3b5679",
   "metadata": {},
   "outputs": [
    {
     "data": {
      "text/plain": [
       "array([[3.14, 3.14, 3.14, 3.14, 3.14],\n",
       "       [3.14, 3.14, 3.14, 3.14, 3.14]])"
      ]
     },
     "execution_count": 9,
     "metadata": {},
     "output_type": "execute_result"
    }
   ],
   "source": [
    "# Array filled with a constant value\n",
    "\n",
    "pi = np.full((2,5), 3.14)\n",
    "pi"
   ]
  },
  {
   "cell_type": "code",
   "execution_count": 10,
   "id": "473fb287-9f90-4307-bd33-c50507d3687e",
   "metadata": {},
   "outputs": [
    {
     "data": {
      "text/plain": [
       "array([ 2,  5,  8, 11, 14, 17])"
      ]
     },
     "execution_count": 10,
     "metadata": {},
     "output_type": "execute_result"
    }
   ],
   "source": [
    "# Array filled with a linear sequence\n",
    "arr4 = np.arange(2,20,3)\n",
    "arr4"
   ]
  },
  {
   "cell_type": "code",
   "execution_count": 11,
   "id": "3f453a71-c212-4e34-97fc-bcbfbf685822",
   "metadata": {},
   "outputs": [
    {
     "data": {
      "text/plain": [
       "array([ 3,  6,  9, 12, 15, 18, 21, 24, 27, 30])"
      ]
     },
     "execution_count": 11,
     "metadata": {},
     "output_type": "execute_result"
    }
   ],
   "source": [
    "# An array of 10 values evenly spaced between 3 and 30\n",
    "arr5 = np.linspace(3,30,10, dtype=int)\n",
    "arr5"
   ]
  },
  {
   "cell_type": "code",
   "execution_count": 12,
   "id": "43fc4971-b77d-4532-9140-6fe74395f810",
   "metadata": {},
   "outputs": [
    {
     "data": {
      "text/plain": [
       "array([[0.67265756, 0.39902744, 0.97790761],\n",
       "       [0.1828367 , 0.13814321, 0.16912127]])"
      ]
     },
     "execution_count": 12,
     "metadata": {},
     "output_type": "execute_result"
    }
   ],
   "source": [
    "# An array of uniformly distributed random values between 0 and 1\n",
    "arr6 = np.random.random((2,3))\n",
    "arr6"
   ]
  },
  {
   "cell_type": "code",
   "execution_count": 13,
   "id": "77667613-0db3-46c0-9e10-224556c1aac1",
   "metadata": {},
   "outputs": [
    {
     "data": {
      "text/plain": [
       "array([[ 0.12046   ,  2.13938836, -0.0221904 ,  1.14504617],\n",
       "       [-0.29909645, -2.01636094, -0.11056149, -1.05210497],\n",
       "       [ 2.2285807 ,  1.42818876,  1.71764278,  0.21879558]])"
      ]
     },
     "execution_count": 13,
     "metadata": {},
     "output_type": "execute_result"
    }
   ],
   "source": [
    "# An array of normally distributed random values with mean = 0 and std = 1.5\n",
    "arr7 = np.random.normal(0,1.5,(3,4))\n",
    "arr7"
   ]
  },
  {
   "cell_type": "code",
   "execution_count": 14,
   "id": "d8b71fd7-67bf-4730-9d21-25483912e957",
   "metadata": {},
   "outputs": [
    {
     "data": {
      "text/plain": [
       "array([[31, 37, 25,  9, 13],\n",
       "       [ 8, 28, 44, 48,  7]])"
      ]
     },
     "execution_count": 14,
     "metadata": {},
     "output_type": "execute_result"
    }
   ],
   "source": [
    "# An array of random integers in the range[5,50)\n",
    "arr8 = np.random.randint(5,50,(2,5))\n",
    "arr8"
   ]
  },
  {
   "cell_type": "code",
   "execution_count": 15,
   "id": "b70d66cb-03ee-4096-a936-0ed8e0821e4c",
   "metadata": {},
   "outputs": [
    {
     "data": {
      "text/plain": [
       "array([[1, 0, 0, 0],\n",
       "       [0, 1, 0, 0],\n",
       "       [0, 0, 1, 0],\n",
       "       [0, 0, 0, 1]])"
      ]
     },
     "execution_count": 15,
     "metadata": {},
     "output_type": "execute_result"
    }
   ],
   "source": [
    "# Identity matrix\n",
    "I = np.eye(4, dtype=int)\n",
    "I"
   ]
  },
  {
   "cell_type": "code",
   "execution_count": 16,
   "id": "287e583b-c81b-41df-bf90-f6af1dd69e33",
   "metadata": {},
   "outputs": [
    {
     "data": {
      "text/plain": [
       "array([[0.12046   , 2.13938836, 0.0221904 , 1.14504617],\n",
       "       [0.29909645, 2.01636094, 0.11056149, 1.05210497],\n",
       "       [2.2285807 , 1.42818876, 1.71764278, 0.21879558]])"
      ]
     },
     "execution_count": 16,
     "metadata": {},
     "output_type": "execute_result"
    }
   ],
   "source": [
    "# An uninitialized array\n",
    "arr9 = np.empty((3,4))\n",
    "arr9"
   ]
  },
  {
   "cell_type": "markdown",
   "id": "8c07d591-8d87-4c75-bec6-158d44a9e678",
   "metadata": {},
   "source": [
    "## Basics of NumPy arrays\n",
    "\n",
    "1. Array attributes\n",
    "2. Array slicing: array slices return views rather than copies of the array data\n",
    "3. Reshaping of array\n",
    "4. Joining arrays: `np.concatenate`, `np.hstack`, `np.vstack`, and `np.dstack`\n",
    "5. Splitting arrays: `np.split`, `np.hsplit`, `np.vsplit`, and `np.dsplit`"
   ]
  },
  {
   "cell_type": "code",
   "execution_count": 17,
   "id": "4f74ee17-fa03-4ed1-beac-d81b49a08eda",
   "metadata": {},
   "outputs": [],
   "source": [
    "np.random.seed(42)"
   ]
  },
  {
   "cell_type": "code",
   "execution_count": 18,
   "id": "396f2e93-a277-4c23-8bcd-e55bf591bdb2",
   "metadata": {},
   "outputs": [],
   "source": [
    "x1 = np.random.randint(100, size = 6)\n",
    "x2 = np.random.randint(100, size = (3,4))\n",
    "x3 = np.random.randint(100, size = (3,4,5))"
   ]
  },
  {
   "cell_type": "code",
   "execution_count": 19,
   "id": "d207676e-e2cf-4bfb-b9cf-da50139a958d",
   "metadata": {},
   "outputs": [
    {
     "data": {
      "text/plain": [
       "array([51, 92, 14, 71, 60, 20])"
      ]
     },
     "execution_count": 19,
     "metadata": {},
     "output_type": "execute_result"
    }
   ],
   "source": [
    "x1"
   ]
  },
  {
   "cell_type": "code",
   "execution_count": 20,
   "id": "0bb089c3-316d-406f-8938-a72a77282aef",
   "metadata": {},
   "outputs": [
    {
     "data": {
      "text/plain": [
       "array([[82, 86, 74, 74],\n",
       "       [87, 99, 23,  2],\n",
       "       [21, 52,  1, 87]])"
      ]
     },
     "execution_count": 20,
     "metadata": {},
     "output_type": "execute_result"
    }
   ],
   "source": [
    "x2"
   ]
  },
  {
   "cell_type": "code",
   "execution_count": 21,
   "id": "256dd3e9-5aaa-4f28-830e-d719526d2626",
   "metadata": {},
   "outputs": [
    {
     "data": {
      "text/plain": [
       "array([[[29, 37,  1, 63, 59],\n",
       "        [20, 32, 75, 57, 21],\n",
       "        [88, 48, 90, 58, 41],\n",
       "        [91, 59, 79, 14, 61]],\n",
       "\n",
       "       [[61, 46, 61, 50, 54],\n",
       "        [63,  2, 50,  6, 20],\n",
       "        [72, 38, 17,  3, 88],\n",
       "        [59, 13,  8, 89, 52]],\n",
       "\n",
       "       [[ 1, 83, 91, 59, 70],\n",
       "        [43,  7, 46, 34, 77],\n",
       "        [80, 35, 49,  3,  1],\n",
       "        [ 5, 53,  3, 53, 92]]])"
      ]
     },
     "execution_count": 21,
     "metadata": {},
     "output_type": "execute_result"
    }
   ],
   "source": [
    "x3"
   ]
  },
  {
   "cell_type": "code",
   "execution_count": 23,
   "id": "1f2f59cf-1217-41fb-b110-94d899ec084e",
   "metadata": {},
   "outputs": [
    {
     "name": "stdout",
     "output_type": "stream",
     "text": [
      "Shape:  (3, 4, 5)\n",
      "Number of dimensions:  3\n",
      "Size of the array:  60\n",
      "Data type of array:  int32\n",
      "Size in bytes of each element:  4 bytes\n",
      "Size in bytes of the array:  240 bytes\n"
     ]
    }
   ],
   "source": [
    "# Array attributes\n",
    "\n",
    "# 1. shape\n",
    "print('Shape: ', x3.shape)\n",
    "\n",
    "#2. ndim\n",
    "print('Number of dimensions: ', x3.ndim)\n",
    "\n",
    "#3. size\n",
    "print('Size of the array: ', x3.size)\n",
    "\n",
    "#4. dtype\n",
    "print('Data type of array: ', x3.dtype)\n",
    "\n",
    "#5. itemsize\n",
    "print('Size in bytes of each element: ', x3.itemsize, 'bytes')\n",
    "\n",
    "#6. nbytes = size*itemsize\n",
    "print('Size in bytes of the array: ', x3.nbytes, 'bytes')"
   ]
  },
  {
   "cell_type": "code",
   "execution_count": 25,
   "id": "5038b06e-166f-4c45-b239-29f11250a669",
   "metadata": {},
   "outputs": [
    {
     "data": {
      "text/plain": [
       "array([51, 92, 14, 71, 60, 20])"
      ]
     },
     "execution_count": 25,
     "metadata": {},
     "output_type": "execute_result"
    }
   ],
   "source": [
    "# One-dimensional array slicing\n",
    "x1"
   ]
  },
  {
   "cell_type": "code",
   "execution_count": 26,
   "id": "f0d084a3-c3d9-4c0a-9db1-83818da6b22c",
   "metadata": {},
   "outputs": [
    {
     "data": {
      "text/plain": [
       "array([51, 92, 14, 71, 60, 20])"
      ]
     },
     "execution_count": 26,
     "metadata": {},
     "output_type": "execute_result"
    }
   ],
   "source": [
    "x1[::]"
   ]
  },
  {
   "cell_type": "code",
   "execution_count": 27,
   "id": "b53b74c3-8669-482f-acb7-f4ca7c315b94",
   "metadata": {},
   "outputs": [
    {
     "data": {
      "text/plain": [
       "array([51, 14, 60])"
      ]
     },
     "execution_count": 27,
     "metadata": {},
     "output_type": "execute_result"
    }
   ],
   "source": [
    "x1[::2]  # Every other element"
   ]
  },
  {
   "cell_type": "code",
   "execution_count": 28,
   "id": "851457fa-6e7e-42c3-98e1-90956e18cd5c",
   "metadata": {},
   "outputs": [
    {
     "data": {
      "text/plain": [
       "array([20, 60, 71, 14, 92, 51])"
      ]
     },
     "execution_count": 28,
     "metadata": {},
     "output_type": "execute_result"
    }
   ],
   "source": [
    "x1[::-1]  # Reverse array"
   ]
  },
  {
   "cell_type": "code",
   "execution_count": 29,
   "id": "c7b3ace1-f4e0-4f7c-8bf1-c5e333052e65",
   "metadata": {},
   "outputs": [
    {
     "data": {
      "text/plain": [
       "array([14, 60])"
      ]
     },
     "execution_count": 29,
     "metadata": {},
     "output_type": "execute_result"
    }
   ],
   "source": [
    "x1[2: 5: 2]"
   ]
  },
  {
   "cell_type": "code",
   "execution_count": 30,
   "id": "84c1c614-ac07-4218-bce6-b48bc509e907",
   "metadata": {},
   "outputs": [
    {
     "data": {
      "text/plain": [
       "array([[82, 86, 74, 74],\n",
       "       [87, 99, 23,  2],\n",
       "       [21, 52,  1, 87]])"
      ]
     },
     "execution_count": 30,
     "metadata": {},
     "output_type": "execute_result"
    }
   ],
   "source": [
    "# Multidimensional array splicing\n",
    "x2"
   ]
  },
  {
   "cell_type": "code",
   "execution_count": 31,
   "id": "5136cfed-24da-4d27-b91f-9369085e9a40",
   "metadata": {},
   "outputs": [
    {
     "data": {
      "text/plain": [
       "array([[82, 86, 74, 74],\n",
       "       [87, 99, 23,  2],\n",
       "       [21, 52,  1, 87]])"
      ]
     },
     "execution_count": 31,
     "metadata": {},
     "output_type": "execute_result"
    }
   ],
   "source": [
    "x2[::,::]"
   ]
  },
  {
   "cell_type": "code",
   "execution_count": 32,
   "id": "6d8cf64f-ee5c-4cd8-b523-77a93cc3ad4b",
   "metadata": {},
   "outputs": [
    {
     "data": {
      "text/plain": [
       "array([[87,  1, 52, 21],\n",
       "       [ 2, 23, 99, 87],\n",
       "       [74, 74, 86, 82]])"
      ]
     },
     "execution_count": 32,
     "metadata": {},
     "output_type": "execute_result"
    }
   ],
   "source": [
    "x2[::-1,::-1]"
   ]
  },
  {
   "cell_type": "code",
   "execution_count": 34,
   "id": "6e02d81b-5c87-4a7a-ad60-b773d74469d5",
   "metadata": {},
   "outputs": [
    {
     "data": {
      "text/plain": [
       "array([[82, 86, 74],\n",
       "       [87, 99, 23]])"
      ]
     },
     "execution_count": 34,
     "metadata": {},
     "output_type": "execute_result"
    }
   ],
   "source": [
    "x2[:2,:3]"
   ]
  },
  {
   "cell_type": "code",
   "execution_count": 35,
   "id": "c6631a59-9c6d-4a9c-bee2-9fc15b1ad01a",
   "metadata": {},
   "outputs": [
    {
     "data": {
      "text/plain": [
       "array([[82, 74],\n",
       "       [87, 23],\n",
       "       [21,  1]])"
      ]
     },
     "execution_count": 35,
     "metadata": {},
     "output_type": "execute_result"
    }
   ],
   "source": [
    "x2[:, ::2]"
   ]
  },
  {
   "cell_type": "code",
   "execution_count": 37,
   "id": "bbb42367-18dc-4bf7-a00a-1a4fe89d1a7d",
   "metadata": {},
   "outputs": [
    {
     "data": {
      "text/plain": [
       "array([86, 99, 52])"
      ]
     },
     "execution_count": 37,
     "metadata": {},
     "output_type": "execute_result"
    }
   ],
   "source": [
    "x2[:,1]  # Second column of the array"
   ]
  },
  {
   "cell_type": "code",
   "execution_count": 38,
   "id": "ce3fbf2b-c229-445d-807f-a9d009296836",
   "metadata": {},
   "outputs": [
    {
     "data": {
      "text/plain": [
       "array([21, 52,  1, 87])"
      ]
     },
     "execution_count": 38,
     "metadata": {},
     "output_type": "execute_result"
    }
   ],
   "source": [
    "x2[2]"
   ]
  },
  {
   "cell_type": "code",
   "execution_count": 39,
   "id": "5bc2fde0-1e72-4255-9a4b-93582f4e375f",
   "metadata": {},
   "outputs": [
    {
     "data": {
      "text/plain": [
       "array([21, 52,  1, 87])"
      ]
     },
     "execution_count": 39,
     "metadata": {},
     "output_type": "execute_result"
    }
   ],
   "source": [
    "x2[2,:]"
   ]
  },
  {
   "cell_type": "code",
   "execution_count": 40,
   "id": "612e82be-a0e6-4f62-b801-5c7e8f9f9bc9",
   "metadata": {},
   "outputs": [
    {
     "name": "stdout",
     "output_type": "stream",
     "text": [
      "[[82 86 74 74]\n",
      " [87 99 23  2]\n",
      " [21 52  1 87]]\n",
      "x2_sub: \n",
      " [[82 86]\n",
      " [87 99]]\n"
     ]
    }
   ],
   "source": [
    "print(x2)\n",
    "x2_sub = x2[:2,:2]\n",
    "print('x2_sub: \\n', x2_sub)"
   ]
  },
  {
   "cell_type": "code",
   "execution_count": 41,
   "id": "ac800512-0583-448b-a274-d8878989dfaf",
   "metadata": {},
   "outputs": [
    {
     "name": "stdout",
     "output_type": "stream",
     "text": [
      "x2_sub: \n",
      " [[82 86]\n",
      " [13 99]]\n",
      "x2: \n",
      " [[82 86 74 74]\n",
      " [13 99 23  2]\n",
      " [21 52  1 87]]\n"
     ]
    }
   ],
   "source": [
    "x2_sub[1,0] = 13\n",
    "print('x2_sub: \\n', x2_sub)\n",
    "print('x2: \\n', x2)"
   ]
  },
  {
   "cell_type": "code",
   "execution_count": 42,
   "id": "8dd03a9d-2431-46ab-9159-b2f9a67590c5",
   "metadata": {},
   "outputs": [
    {
     "name": "stdout",
     "output_type": "stream",
     "text": [
      "x2_sub_copy: \n",
      " [[82 86]\n",
      " [15 99]]\n",
      "x2_sub: \n",
      " [[82 86]\n",
      " [13 99]]\n",
      "x2: \n",
      " [[82 86 74 74]\n",
      " [13 99 23  2]\n",
      " [21 52  1 87]]\n"
     ]
    }
   ],
   "source": [
    "# Creating copy of the array\n",
    "x2_sub_copy = x2[:2,:2].copy()\n",
    "x2_sub_copy[1,0] = 15\n",
    "print('x2_sub_copy: \\n', x2_sub_copy)\n",
    "print('x2_sub: \\n', x2_sub)\n",
    "print('x2: \\n', x2)"
   ]
  },
  {
   "cell_type": "code",
   "execution_count": 44,
   "id": "4a444f03-1fb8-44c6-a4a9-40325c32321d",
   "metadata": {},
   "outputs": [
    {
     "data": {
      "text/plain": [
       "array([[1, 2, 3],\n",
       "       [4, 5, 6],\n",
       "       [7, 8, 9]])"
      ]
     },
     "execution_count": 44,
     "metadata": {},
     "output_type": "execute_result"
    }
   ],
   "source": [
    "# Reshape array\n",
    "x = np.arange(1,10).reshape(3,3)\n",
    "x"
   ]
  },
  {
   "cell_type": "code",
   "execution_count": 45,
   "id": "43550323-29f9-4b18-99f3-8d082eac3ccf",
   "metadata": {},
   "outputs": [
    {
     "data": {
      "text/plain": [
       "array([51, 92, 14, 71, 60, 20])"
      ]
     },
     "execution_count": 45,
     "metadata": {},
     "output_type": "execute_result"
    }
   ],
   "source": [
    "x1"
   ]
  },
  {
   "cell_type": "code",
   "execution_count": 51,
   "id": "33f8e385-4f5a-4766-9738-12a269a04c4f",
   "metadata": {},
   "outputs": [
    {
     "data": {
      "text/plain": [
       "array([[51],\n",
       "       [92],\n",
       "       [14],\n",
       "       [71],\n",
       "       [60],\n",
       "       [20]])"
      ]
     },
     "execution_count": 51,
     "metadata": {},
     "output_type": "execute_result"
    }
   ],
   "source": [
    "x1.reshape((6,1))"
   ]
  },
  {
   "cell_type": "markdown",
   "id": "223121dd-df75-4926-8191-68bda4d021df",
   "metadata": {},
   "source": [
    "## Computations on NumPy arrays: Universal Functions"
   ]
  },
  {
   "cell_type": "code",
   "execution_count": 59,
   "id": "3a0dd861-cfd0-4570-9e34-6ad6dadf85ed",
   "metadata": {},
   "outputs": [
    {
     "data": {
      "text/plain": [
       "array([[20, 22, 24, 26, 28],\n",
       "       [30, 32, 34, 36, 38]])"
      ]
     },
     "execution_count": 59,
     "metadata": {},
     "output_type": "execute_result"
    }
   ],
   "source": [
    "x = np.arange(20,40,2).reshape((2,5))\n",
    "x"
   ]
  },
  {
   "cell_type": "code",
   "execution_count": 55,
   "id": "fba9de58-8aed-442a-a741-036c1575d095",
   "metadata": {},
   "outputs": [
    {
     "data": {
      "text/plain": [
       "array([0, 1, 2, 3, 4, 5, 6, 7, 8, 9])"
      ]
     },
     "execution_count": 55,
     "metadata": {},
     "output_type": "execute_result"
    }
   ],
   "source": [
    "y = np.arange(10)\n",
    "y"
   ]
  },
  {
   "cell_type": "code",
   "execution_count": 56,
   "id": "404dc252-4762-4e37-8845-40b5855ed5ee",
   "metadata": {},
   "outputs": [
    {
     "data": {
      "text/plain": [
       "array([[0, 1, 2, 3, 4],\n",
       "       [5, 6, 7, 8, 9]])"
      ]
     },
     "execution_count": 56,
     "metadata": {},
     "output_type": "execute_result"
    }
   ],
   "source": [
    "z = np.arange(10).reshape((2,5))\n",
    "z"
   ]
  },
  {
   "cell_type": "code",
   "execution_count": 57,
   "id": "3e68bcd5-3d69-4a79-a760-8b019ac050c2",
   "metadata": {},
   "outputs": [
    {
     "name": "stdout",
     "output_type": "stream",
     "text": [
      "x  = [[ 1  3  5  7]\n",
      " [ 9 11 13 15]\n",
      " [17 19 21 23]\n",
      " [25 27 29 31]\n",
      " [33 35 37 39]]\n",
      "x+2= [[ 3  5  7  9]\n",
      " [11 13 15 17]\n",
      " [19 21 23 25]\n",
      " [27 29 31 33]\n",
      " [35 37 39 41]]\n",
      "x-5= [[-4 -2  0  2]\n",
      " [ 4  6  8 10]\n",
      " [12 14 16 18]\n",
      " [20 22 24 26]\n",
      " [28 30 32 34]]\n",
      "x*4= [[  4  12  20  28]\n",
      " [ 36  44  52  60]\n",
      " [ 68  76  84  92]\n",
      " [100 108 116 124]\n",
      " [132 140 148 156]]\n",
      "x/5= [[0.2 0.6 1.  1.4]\n",
      " [1.8 2.2 2.6 3. ]\n",
      " [3.4 3.8 4.2 4.6]\n",
      " [5.  5.4 5.8 6.2]\n",
      " [6.6 7.  7.4 7.8]]\n",
      "2^x= [[          2           8          32         128]\n",
      " [        512        2048        8192       32768]\n",
      " [     131072      524288     2097152     8388608]\n",
      " [   33554432   134217728   536870912 -2147483648]\n",
      " [          0           0           0           0]]\n"
     ]
    }
   ],
   "source": [
    "print('x  =',x)\n",
    "print('x+2=',x+2)\n",
    "print('x-5=',x-5)\n",
    "print('x*4=',x*4)\n",
    "print('x/5=',x/5)\n",
    "print('2^x=',2**x)"
   ]
  },
  {
   "cell_type": "code",
   "execution_count": 61,
   "id": "66902d57-86e2-415e-9500-e6ff4e734a6e",
   "metadata": {},
   "outputs": [
    {
     "name": "stdout",
     "output_type": "stream",
     "text": [
      "x+z\n",
      " [[20 23 26 29 32]\n",
      " [35 38 41 44 47]]\n",
      "x-z\n",
      " [[20 21 22 23 24]\n",
      " [25 26 27 28 29]]\n",
      "x*z\n",
      " [[  0  22  48  78 112]\n",
      " [150 192 238 288 342]]\n",
      "x/z\n",
      " [[        inf 22.         12.          8.66666667  7.        ]\n",
      " [ 6.          5.33333333  4.85714286  4.5         4.22222222]]\n"
     ]
    },
    {
     "name": "stderr",
     "output_type": "stream",
     "text": [
      "C:\\Users\\Divya Tiwari\\AppData\\Local\\Temp\\ipykernel_9236\\3963373118.py:4: RuntimeWarning: divide by zero encountered in divide\n",
      "  print('x/z\\n',np.divide(x,z))\n"
     ]
    }
   ],
   "source": [
    "print('x+z\\n',np.add(x,z))\n",
    "print('x-z\\n',np.subtract(x,z))\n",
    "print('x*z\\n',np.multiply(x,z))\n",
    "print('x/z\\n',np.divide(x,z))"
   ]
  },
  {
   "cell_type": "code",
   "execution_count": null,
   "id": "7c15f4c7-a376-4862-a585-07f301327b32",
   "metadata": {},
   "outputs": [],
   "source": []
  }
 ],
 "metadata": {
  "kernelspec": {
   "display_name": "Python 3 (ipykernel)",
   "language": "python",
   "name": "python3"
  },
  "language_info": {
   "codemirror_mode": {
    "name": "ipython",
    "version": 3
   },
   "file_extension": ".py",
   "mimetype": "text/x-python",
   "name": "python",
   "nbconvert_exporter": "python",
   "pygments_lexer": "ipython3",
   "version": "3.12.2"
  }
 },
 "nbformat": 4,
 "nbformat_minor": 5
}
