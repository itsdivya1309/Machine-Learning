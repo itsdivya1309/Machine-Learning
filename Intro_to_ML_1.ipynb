{
  "nbformat": 4,
  "nbformat_minor": 0,
  "metadata": {
    "colab": {
      "name": "Intro_to_ML_1.ipynb",
      "provenance": [],
      "collapsed_sections": []
    },
    "kernelspec": {
      "name": "python3",
      "display_name": "Python 3"
    },
    "language_info": {
      "name": "python"
    }
  },
  "cells": [
    {
      "cell_type": "code",
      "execution_count": null,
      "metadata": {
        "id": "lSkkb0HR74q7"
      },
      "outputs": [],
      "source": [
        "#The most useful libraries are imported\n",
        "import numpy as np\n",
        "import pandas as pd\n",
        "import matplotlib.pyplot as plt\n",
        "import sys\n",
        "import scipy as sp\n",
        "import sklearn\n",
        "import IPython"
      ]
    },
    {
      "cell_type": "code",
      "source": [
        "#The next thing we should do is check the version we are using\n",
        "print(\"Numpy version: {}\".format(np.__version__))\n",
        "print(\"Pandas version: {}\".format(pd.__version__))\n",
        "import matplotlib\n",
        "print(\"Matplotlib version: {}\".format(matplotlib.__version__))\n",
        "print(\"Python version: {}\".format(sys.version))\n",
        "print(\"Scipy version: {}\".format(sp.__version__))\n",
        "print(\"Scikitlearn version: {}\".format(sklearn.__version__))\n",
        "print(\"IPython version: {}\".format(IPython.__version__))"
      ],
      "metadata": {
        "colab": {
          "base_uri": "https://localhost:8080/"
        },
        "id": "7MQAF3xP96nZ",
        "outputId": "7315f728-200c-4da5-9b4d-c01af0a1a994"
      },
      "execution_count": null,
      "outputs": [
        {
          "output_type": "stream",
          "name": "stdout",
          "text": [
            "Numpy version: 1.21.6\n",
            "Pandas version: 1.3.5\n",
            "Matplotlib version: 3.2.2\n",
            "Python version: 3.7.13 (default, Apr 24 2022, 01:04:09) \n",
            "[GCC 7.5.0]\n",
            "Scipy version: 1.4.1\n",
            "Scikitlearn version: 1.0.2\n",
            "IPython version: 5.5.0\n"
          ]
        }
      ]
    },
    {
      "cell_type": "markdown",
      "source": [
        "Our goal is to build a machine learning model that can learn from the measurements of these irises whose species is known, so that we can predict the species for a new iris. \n",
        "\n",
        "Because we have measurements for which we know the correct species of iris, this is a supervised learning problem.\n",
        "\n",
        "This is an example of a classiication problem. The possible outputs (different species of irises) are called classes. Every iris in the dataset belongs to one of three classes, so this problem is a three-class classification problem.\n",
        "\n",
        "The desired output for a single data point (an iris) is the species of this flower. For a particular data point, the species it belongs to is called its label."
      ],
      "metadata": {
        "id": "iHxsLsTU__rX"
      }
    },
    {
      "cell_type": "markdown",
      "source": [
        "**A First Application: Classifying Iris Species**"
      ],
      "metadata": {
        "id": "PjWWmpp3DXaR"
      }
    },
    {
      "cell_type": "code",
      "source": [
        "#There are 7 datasets present in the datasets module of sklearn. \n",
        "#Iris dataset is one of them \n",
        "from sklearn import datasets\n",
        "iris_data = datasets.load_iris()"
      ],
      "metadata": {
        "id": "k5oJcnC6-cCw"
      },
      "execution_count": null,
      "outputs": []
    },
    {
      "cell_type": "code",
      "source": [
        "#The iris object that is returned by load_iris is a Bunch object, \n",
        "#which is very similar to a dictionary. \n",
        "#It contains keys and values\n",
        "print(\"Keys of iris_dataset : \\n{}\".format(iris_data.keys()))"
      ],
      "metadata": {
        "colab": {
          "base_uri": "https://localhost:8080/"
        },
        "id": "zVQk9G-VEbHM",
        "outputId": "a0017561-3d83-438f-ff82-8772008fdeba"
      },
      "execution_count": null,
      "outputs": [
        {
          "output_type": "stream",
          "name": "stdout",
          "text": [
            "Keys of iris_dataset : \n",
            "dict_keys(['data', 'target', 'frame', 'target_names', 'DESCR', 'feature_names', 'filename', 'data_module'])\n"
          ]
        }
      ]
    },
    {
      "cell_type": "code",
      "source": [
        "print(\"DESCR of iris_dataset :\\n{}\".format(iris_data['DESCR']))"
      ],
      "metadata": {
        "colab": {
          "base_uri": "https://localhost:8080/"
        },
        "id": "a0-mugkCFVBC",
        "outputId": "66d70164-1e5e-4998-f884-4b5ac8362a01"
      },
      "execution_count": null,
      "outputs": [
        {
          "output_type": "stream",
          "name": "stdout",
          "text": [
            "DESCR of iris_dataset :\n",
            ".. _iris_dataset:\n",
            "\n",
            "Iris plants dataset\n",
            "--------------------\n",
            "\n",
            "**Data Set Characteristics:**\n",
            "\n",
            "    :Number of Instances: 150 (50 in each of three classes)\n",
            "    :Number of Attributes: 4 numeric, predictive attributes and the class\n",
            "    :Attribute Information:\n",
            "        - sepal length in cm\n",
            "        - sepal width in cm\n",
            "        - petal length in cm\n",
            "        - petal width in cm\n",
            "        - class:\n",
            "                - Iris-Setosa\n",
            "                - Iris-Versicolour\n",
            "                - Iris-Virginica\n",
            "                \n",
            "    :Summary Statistics:\n",
            "\n",
            "    ============== ==== ==== ======= ===== ====================\n",
            "                    Min  Max   Mean    SD   Class Correlation\n",
            "    ============== ==== ==== ======= ===== ====================\n",
            "    sepal length:   4.3  7.9   5.84   0.83    0.7826\n",
            "    sepal width:    2.0  4.4   3.05   0.43   -0.4194\n",
            "    petal length:   1.0  6.9   3.76   1.76    0.9490  (high!)\n",
            "    petal width:    0.1  2.5   1.20   0.76    0.9565  (high!)\n",
            "    ============== ==== ==== ======= ===== ====================\n",
            "\n",
            "    :Missing Attribute Values: None\n",
            "    :Class Distribution: 33.3% for each of 3 classes.\n",
            "    :Creator: R.A. Fisher\n",
            "    :Donor: Michael Marshall (MARSHALL%PLU@io.arc.nasa.gov)\n",
            "    :Date: July, 1988\n",
            "\n",
            "The famous Iris database, first used by Sir R.A. Fisher. The dataset is taken\n",
            "from Fisher's paper. Note that it's the same as in R, but not as in the UCI\n",
            "Machine Learning Repository, which has two wrong data points.\n",
            "\n",
            "This is perhaps the best known database to be found in the\n",
            "pattern recognition literature.  Fisher's paper is a classic in the field and\n",
            "is referenced frequently to this day.  (See Duda & Hart, for example.)  The\n",
            "data set contains 3 classes of 50 instances each, where each class refers to a\n",
            "type of iris plant.  One class is linearly separable from the other 2; the\n",
            "latter are NOT linearly separable from each other.\n",
            "\n",
            ".. topic:: References\n",
            "\n",
            "   - Fisher, R.A. \"The use of multiple measurements in taxonomic problems\"\n",
            "     Annual Eugenics, 7, Part II, 179-188 (1936); also in \"Contributions to\n",
            "     Mathematical Statistics\" (John Wiley, NY, 1950).\n",
            "   - Duda, R.O., & Hart, P.E. (1973) Pattern Classification and Scene Analysis.\n",
            "     (Q327.D83) John Wiley & Sons.  ISBN 0-471-22361-1.  See page 218.\n",
            "   - Dasarathy, B.V. (1980) \"Nosing Around the Neighborhood: A New System\n",
            "     Structure and Classification Rule for Recognition in Partially Exposed\n",
            "     Environments\".  IEEE Transactions on Pattern Analysis and Machine\n",
            "     Intelligence, Vol. PAMI-2, No. 1, 67-71.\n",
            "   - Gates, G.W. (1972) \"The Reduced Nearest Neighbor Rule\".  IEEE Transactions\n",
            "     on Information Theory, May 1972, 431-433.\n",
            "   - See also: 1988 MLC Proceedings, 54-64.  Cheeseman et al\"s AUTOCLASS II\n",
            "     conceptual clustering system finds 3 classes in the data.\n",
            "   - Many, many more ...\n"
          ]
        }
      ]
    },
    {
      "cell_type": "code",
      "source": [
        "print(\"feature_names of iris_dataset :\\n{}\".format(iris_data['feature_names']))\n",
        "print(\"----------------------------------------------------------\")\n",
        "print(\"target_names of iris_dataset :\\n{}\".format(iris_data['target_names']))\n",
        "print(\"----------------------------------------------------------\")\n",
        "print(\"filename of iris_dataset :\\n{}\".format(iris_data['filename']))\n",
        "print(\"----------------------------------------------------------\")\n",
        "print(\"data_module of iris_dataset :\\n{}\".format(iris_data['data_module']))"
      ],
      "metadata": {
        "colab": {
          "base_uri": "https://localhost:8080/"
        },
        "id": "FtA0mwtiF7ag",
        "outputId": "e1454bc6-7dff-47aa-a90a-52d004a76c00"
      },
      "execution_count": null,
      "outputs": [
        {
          "output_type": "stream",
          "name": "stdout",
          "text": [
            "feature_names of iris_dataset :\n",
            "['sepal length (cm)', 'sepal width (cm)', 'petal length (cm)', 'petal width (cm)']\n",
            "----------------------------------------------------------\n",
            "target_names of iris_dataset :\n",
            "['setosa' 'versicolor' 'virginica']\n",
            "----------------------------------------------------------\n",
            "filename of iris_dataset :\n",
            "iris.csv\n",
            "----------------------------------------------------------\n",
            "data_module of iris_dataset :\n",
            "sklearn.datasets.data\n"
          ]
        }
      ]
    },
    {
      "cell_type": "code",
      "source": [
        "#The data itself is contained in the target and data fields.\n",
        "print('Type of data : \\n{}'.format(type(iris_data['data'])))"
      ],
      "metadata": {
        "colab": {
          "base_uri": "https://localhost:8080/"
        },
        "id": "pyIkHCcEHY3Z",
        "outputId": "a11f03d4-841d-490d-e81d-a7156fb252d6"
      },
      "execution_count": null,
      "outputs": [
        {
          "output_type": "stream",
          "name": "stdout",
          "text": [
            "Type of data : \n",
            "<class 'numpy.ndarray'>\n"
          ]
        }
      ]
    },
    {
      "cell_type": "code",
      "source": [
        "print('Shape of data :\\n{}'.format(iris_data['data'].shape))"
      ],
      "metadata": {
        "colab": {
          "base_uri": "https://localhost:8080/"
        },
        "id": "1mlJwiEuIYhb",
        "outputId": "b2958a21-25ef-41a2-bf96-8d536132befc"
      },
      "execution_count": null,
      "outputs": [
        {
          "output_type": "stream",
          "name": "stdout",
          "text": [
            "Shape of data :\n",
            "(150, 4)\n"
          ]
        }
      ]
    },
    {
      "cell_type": "code",
      "source": [
        "#No. of instances = no. of rows = no. of samples\n",
        "#No. of attributes = no. of columns = no. of features\n",
        "print('First five samples of the dataset :\\n{}'.format(iris_data['data'][0:5]))"
      ],
      "metadata": {
        "colab": {
          "base_uri": "https://localhost:8080/"
        },
        "id": "oioRBVn9IkwB",
        "outputId": "2ae2a493-e1bf-4df5-940e-f0699c90ba5e"
      },
      "execution_count": null,
      "outputs": [
        {
          "output_type": "stream",
          "name": "stdout",
          "text": [
            "First five samples of the dataset :\n",
            "[[5.1 3.5 1.4 0.2]\n",
            " [4.9 3.  1.4 0.2]\n",
            " [4.7 3.2 1.3 0.2]\n",
            " [4.6 3.1 1.5 0.2]\n",
            " [5.  3.6 1.4 0.2]]\n"
          ]
        }
      ]
    },
    {
      "cell_type": "code",
      "source": [
        "print('Shape of target :\\n{}'.format(iris_data['target'].shape))\n",
        "print('---------------------------------------------------')\n",
        "print('Type of target : \\n{}'.format(type(iris_data['target'])))"
      ],
      "metadata": {
        "colab": {
          "base_uri": "https://localhost:8080/"
        },
        "id": "s6VasX1iJDCs",
        "outputId": "7c302f07-e10e-4766-d9b3-997572c22402"
      },
      "execution_count": null,
      "outputs": [
        {
          "output_type": "stream",
          "name": "stdout",
          "text": [
            "Shape of target :\n",
            "(150,)\n",
            "---------------------------------------------------\n",
            "Type of target : \n",
            "<class 'numpy.ndarray'>\n"
          ]
        }
      ]
    },
    {
      "cell_type": "code",
      "source": [
        "print('Target of dataset : \\n{}'.format(iris_data['target']))"
      ],
      "metadata": {
        "colab": {
          "base_uri": "https://localhost:8080/"
        },
        "id": "spmP9lIWKKhw",
        "outputId": "183615fa-443a-4e02-c8af-d5d02c6b69af"
      },
      "execution_count": null,
      "outputs": [
        {
          "output_type": "stream",
          "name": "stdout",
          "text": [
            "Target of dataset : \n",
            "[0 0 0 0 0 0 0 0 0 0 0 0 0 0 0 0 0 0 0 0 0 0 0 0 0 0 0 0 0 0 0 0 0 0 0 0 0\n",
            " 0 0 0 0 0 0 0 0 0 0 0 0 0 1 1 1 1 1 1 1 1 1 1 1 1 1 1 1 1 1 1 1 1 1 1 1 1\n",
            " 1 1 1 1 1 1 1 1 1 1 1 1 1 1 1 1 1 1 1 1 1 1 1 1 1 1 2 2 2 2 2 2 2 2 2 2 2\n",
            " 2 2 2 2 2 2 2 2 2 2 2 2 2 2 2 2 2 2 2 2 2 2 2 2 2 2 2 2 2 2 2 2 2 2 2 2 2\n",
            " 2 2]\n"
          ]
        }
      ]
    },
    {
      "cell_type": "code",
      "source": [
        "# 0 = 'setosa ; 1 = 'versicolor' ; 2 = 'virginica'"
      ],
      "metadata": {
        "id": "msF7GIldKUUD"
      },
      "execution_count": null,
      "outputs": []
    },
    {
      "cell_type": "markdown",
      "source": [
        "**Measuring success : Training and Testing data**\n",
        "\n",
        "One part of the data is used to build our machine learning model, and is called the training data or training set. The rest of the data will be used to assess how well the model works; this is called the test data, test set, or hold-out set.\n",
        "\n",
        "scikit-learn contains a function that shuffles the dataset and splits it for you: the train_test_split function. This function extracts 75% of the rows in the data as the training set, together with the corresponding labels for this data. The remaining 25% of the data, together with the remaining labels, is declared as the test set.\n",
        "\n"
      ],
      "metadata": {
        "id": "kgRxg1B4LrVO"
      }
    },
    {
      "cell_type": "code",
      "source": [
        "#Data = X   ; Labels = y\n",
        "#This is because f(x) = y\n",
        "#We use capital X because data is a matrix, while the output label, y is a vector\n",
        "from sklearn.model_selection import train_test_split\n",
        "X_train,X_test,y_train,y_test = train_test_split(\n",
        "    iris_data['data'],iris_data['target'],random_state=0)\n",
        "#To make sure that we will get the same output if we run the same function several\n",
        "#times, we provide the pseudorandom number generator with a fixed seed using the\n",
        "#random_state parameter. "
      ],
      "metadata": {
        "id": "dwQihFT-KkLq"
      },
      "execution_count": null,
      "outputs": []
    },
    {
      "cell_type": "code",
      "source": [
        "print('Shape of training data :{}'.format(X_train.shape))\n",
        "print('Shape of training labels :{}'.format(y_train.shape))"
      ],
      "metadata": {
        "colab": {
          "base_uri": "https://localhost:8080/"
        },
        "id": "XkzfNUATPF5T",
        "outputId": "337410dc-f96f-4fa1-dd53-1097ba498d8e"
      },
      "execution_count": null,
      "outputs": [
        {
          "output_type": "stream",
          "name": "stdout",
          "text": [
            "Shape of training data :(112, 4)\n",
            "Shape of training labels :(112,)\n"
          ]
        }
      ]
    },
    {
      "cell_type": "markdown",
      "source": [
        "**Look at your data**\n",
        "\n",
        "One of the best ways to inspect data is to visualize it. One way to do this is by using a scatter plot.\n",
        "\n",
        "One way is to do a pair plot, which looks at all possible pairs of features. If you have a small number of features, this is quite reasonable."
      ],
      "metadata": {
        "id": "YECIvh44QZn-"
      }
    },
    {
      "cell_type": "code",
      "source": [
        "#To create the plot, we first convert the NumPy array into a pandas DataFrame. \n",
        "#pandas has a function to create pair plots called scatter_matrix. \n",
        "#The diagonal of this matrix is filled with histograms of each feature\n",
        "iris_dataframe=pd.DataFrame(X_train,columns=iris_data['feature_names'])\n",
        "grp=pd.plotting.scatter_matrix(iris_dataframe,c=y_train,figsize=(8,8),marker='o',\n",
        "                      hist_kwds={'bins':20},s=20,alpha=0.8)\n"
      ],
      "metadata": {
        "colab": {
          "base_uri": "https://localhost:8080/",
          "height": 500
        },
        "id": "0pqNqNNhPQzS",
        "outputId": "26e89213-b942-49fb-ab9a-1cfedfe3cbd4"
      },
      "execution_count": null,
      "outputs": [
        {
          "output_type": "display_data",
          "data": {
            "text/plain": [
              "<Figure size 576x576 with 16 Axes>"
            ],
            "image/png": "[encoded data removed]"
          },
          "metadata": {
            "needs_background": "light"
          }
        }
      ]
    },
    {
      "cell_type": "markdown",
      "source": [
        "**Building your first model : k-Nearest Neighbours**\n",
        "\n",
        " To make a prediction for a new data point, the algorithm\n",
        "finds the point in the training set that is closest to the new point. Then it assigns the label of this training point to the new data point.\n",
        "\n",
        "The k in k-nearest neighbors signifies that instead of using only the closest neighbor to the new data point, we can consider any fixed number k of neighbors in the training set.\n",
        "\n",
        "All machine learning models in scikit-learn are implemented in their own classes, which are called Estimator classes.\n",
        "\n",
        "Before we can use the model, we need to instantiate the class into an object."
      ],
      "metadata": {
        "id": "R-WcB8eG_PKZ"
      }
    },
    {
      "cell_type": "code",
      "source": [
        "#The k-nearest neighbors classification algorithm is implemented in the \n",
        "#KNeighborsClassifier class in neighbors module\n",
        "from sklearn.neighbors import KNeighborsClassifier\n",
        "knn=KNeighborsClassifier(n_neighbors=1)"
      ],
      "metadata": {
        "id": "ltjEaIHAR1P1"
      },
      "execution_count": null,
      "outputs": []
    },
    {
      "cell_type": "code",
      "source": [
        "knn.fit(X_train,y_train)"
      ],
      "metadata": {
        "colab": {
          "base_uri": "https://localhost:8080/"
        },
        "id": "24VSqlYLDYxt",
        "outputId": "423aae0f-104e-4b4a-9b79-5b151626543e"
      },
      "execution_count": null,
      "outputs": [
        {
          "output_type": "execute_result",
          "data": {
            "text/plain": [
              "KNeighborsClassifier(n_neighbors=1)"
            ]
          },
          "metadata": {},
          "execution_count": 17
        }
      ]
    },
    {
      "cell_type": "markdown",
      "source": [
        "**Evaluating the Model**"
      ],
      "metadata": {
        "id": "gMo_jkfVE1KG"
      }
    },
    {
      "cell_type": "code",
      "source": [
        "#Here we use the test data\n",
        "#There are two ways to test the accuracy of our model\n",
        "\n",
        "#Method: 1\n",
        "y_pred=knn.predict(X_test)\n",
        "print('Test predictions: \\n{}'.format(y_pred))\n",
        "print('The accuracy of the model is : \\n{:.2f}'.format(np.mean(y_pred==y_test)))\n",
        "#It prints the score"
      ],
      "metadata": {
        "colab": {
          "base_uri": "https://localhost:8080/"
        },
        "id": "5mHplNNMDpqc",
        "outputId": "45eaebad-bbe3-4f6c-cca1-a090964fd50e"
      },
      "execution_count": null,
      "outputs": [
        {
          "output_type": "stream",
          "name": "stdout",
          "text": [
            "Test predictions: \n",
            "[2 1 0 2 0 2 0 1 1 1 2 1 1 1 1 0 1 1 0 0 2 1 0 0 2 0 0 1 1 0 2 1 0 2 2 1 0\n",
            " 2]\n",
            "The accuracy of the model is : \n",
            "0.97\n"
          ]
        }
      ]
    },
    {
      "cell_type": "code",
      "source": [
        "#Method: 2\n",
        "print('Test score predictions : \\n{:.2f}'.format(knn.score(X_test,y_test)))\n"
      ],
      "metadata": {
        "colab": {
          "base_uri": "https://localhost:8080/"
        },
        "id": "IuA3DKAjFd8O",
        "outputId": "8c307253-e708-4bb8-fce5-342370bb117e"
      },
      "execution_count": null,
      "outputs": [
        {
          "output_type": "stream",
          "name": "stdout",
          "text": [
            "Test score predictions : \n",
            "0.97\n"
          ]
        }
      ]
    },
    {
      "cell_type": "code",
      "source": [
        "#Predicting output for new data\n",
        "\n",
        "X_new=[[5,2.1,1,0.2]]\n",
        "prediction=knn.predict(X_new)\n",
        "print('Prediction: {}'.format(prediction))\n",
        "print('Predicted target name :{}'.format(iris_data['target_names'][prediction]))"
      ],
      "metadata": {
        "id": "azab5v6vInLK",
        "colab": {
          "base_uri": "https://localhost:8080/"
        },
        "outputId": "fa23c28f-261f-4ff3-af28-e607e37457d9"
      },
      "execution_count": null,
      "outputs": [
        {
          "output_type": "stream",
          "name": "stdout",
          "text": [
            "Prediction: [0]\n",
            "Predicted target name :['setosa']\n"
          ]
        }
      ]
    },
    {
      "cell_type": "code",
      "source": [
        ""
      ],
      "metadata": {
        "id": "VQlBXeHLarBj"
      },
      "execution_count": null,
      "outputs": []
    }
  ]
}