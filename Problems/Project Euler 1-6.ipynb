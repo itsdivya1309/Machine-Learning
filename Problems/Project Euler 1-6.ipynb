{
 "cells": [
  {
   "cell_type": "markdown",
   "id": "45fe8b4b-dc59-4aef-ba2c-8f7faa6b7a0f",
   "metadata": {
    "jp-MarkdownHeadingCollapsed": true
   },
   "source": [
    "## 1. Multiples of 3 or 5\n",
    "\n",
    "Find the sum of all the multiples of 3 or 5 below 1000.\n",
    "\n",
    "---\n",
    "The problem has two parts:\n",
    "1. Find the sum of AP\n",
    "2. To find the sum of AP, I need to find the nth term of the AP.\n",
    "\n",
    "---\n",
    "Answer = sum of multiples of 3 + sum of multiples of 5 - sum of multiples of both(15)"
   ]
  },
  {
   "cell_type": "code",
   "execution_count": 1,
   "id": "95f8dd4d-c082-4b2b-8633-4709adba8e4e",
   "metadata": {},
   "outputs": [],
   "source": [
    "def last_term_of_AP(d, l):\n",
    "    l = l-1\n",
    "    while(l>0):\n",
    "        if(l%d!=0):\n",
    "            l -= l%d\n",
    "        else:\n",
    "            return l\n",
    "\n",
    "def terms_in_AP(a,l,d):\n",
    "    n = ((l-a)/d) + 1\n",
    "    return n\n",
    "\n",
    "def sum_of_AP(a,d,n):\n",
    "    sum = n*(2*a + (n-1)*d)/2\n",
    "    return sum"
   ]
  },
  {
   "cell_type": "code",
   "execution_count": 2,
   "id": "e17c52ff-879e-4643-b673-9a9d5f224200",
   "metadata": {},
   "outputs": [
    {
     "data": {
      "text/plain": [
       "233168.0"
      ]
     },
     "execution_count": 2,
     "metadata": {},
     "output_type": "execute_result"
    }
   ],
   "source": [
    "# Solution to the problem\n",
    "l_3 = last_term_of_AP(3, 1000)\n",
    "n_3 = terms_in_AP(3,l_3,3)\n",
    "s_3 = sum_of_AP(3, 3, n_3)\n",
    "\n",
    "l_5 = last_term_of_AP(5, 1000)\n",
    "n_5 = terms_in_AP(5,l_5,5)\n",
    "s_5 = sum_of_AP(5, 5, n_5)\n",
    "\n",
    "l_15 = last_term_of_AP(15, 1000)\n",
    "n_15 = terms_in_AP(15,l_15,15)\n",
    "s_15 = sum_of_AP(15, 15, n_15)\n",
    "\n",
    "answer = s_3 + s_5 - s_15\n",
    "answer"
   ]
  },
  {
   "cell_type": "markdown",
   "id": "2f7fe3b9-1757-4a29-89dd-b92a19e156b7",
   "metadata": {},
   "source": [
    "But this was the mathematical solution. For programming, we can do the following:"
   ]
  },
  {
   "cell_type": "code",
   "execution_count": 3,
   "id": "2845e84c-5db1-4963-a453-a8fab9cfc2f3",
   "metadata": {},
   "outputs": [
    {
     "data": {
      "text/plain": [
       "233168"
      ]
     },
     "execution_count": 3,
     "metadata": {},
     "output_type": "execute_result"
    }
   ],
   "source": [
    "result = 0\n",
    "for i in range(1000):\n",
    "    if (i%3==0) or (i%5==0):\n",
    "        result += i\n",
    "result"
   ]
  },
  {
   "cell_type": "markdown",
   "id": "5b472200-3ecf-4838-9eb6-1707c2c74a22",
   "metadata": {
    "jp-MarkdownHeadingCollapsed": true
   },
   "source": [
    "## 2. Even Fibonacci numbers\n",
    "\n",
    "Consider the terms in the Fibonacci sequence whose values do not exceed four million, find the sum of the even-valued terms."
   ]
  },
  {
   "cell_type": "code",
   "execution_count": 4,
   "id": "a4720b3d-8df8-42aa-86da-54484d08ec0e",
   "metadata": {},
   "outputs": [
    {
     "data": {
      "text/plain": [
       "4613732"
      ]
     },
     "execution_count": 4,
     "metadata": {},
     "output_type": "execute_result"
    }
   ],
   "source": [
    "a = 1\n",
    "b = 2\n",
    "result = 2\n",
    "c = a + b\n",
    "while(c<4000000):\n",
    "    c = a + b\n",
    "    a = b\n",
    "    b = c\n",
    "    if (c%2==0):\n",
    "        result += c\n",
    "result"
   ]
  },
  {
   "cell_type": "markdown",
   "id": "d63f8c62-24c2-490f-b02d-86048c822b35",
   "metadata": {
    "jp-MarkdownHeadingCollapsed": true
   },
   "source": [
    "## 3. Largest Prime Factor\n",
    "\n",
    "What is the largest prime factor of the number 600851475143?.\n",
    "\n",
    "---\n",
    "Find all the factors of the number and then find the biggest prime number, but this process is very slow.\n",
    "\n",
    "Instead directly find the prime factors."
   ]
  },
  {
   "cell_type": "code",
   "execution_count": 5,
   "id": "5efc6564-1853-456a-9dd8-f7c02250316f",
   "metadata": {},
   "outputs": [
    {
     "name": "stdout",
     "output_type": "stream",
     "text": [
      "[71, 839, 1471, 6857]\n"
     ]
    }
   ],
   "source": [
    "from math import sqrt\n",
    "def prime_factors(n):\n",
    "    factors = []\n",
    "    for i in range(2, int(sqrt(n))+1):\n",
    "        if (n%i==0):\n",
    "            factors.append(i)\n",
    "            n /= i\n",
    "    return factors\n",
    "\n",
    "print(prime_factors(600851475143))"
   ]
  },
  {
   "cell_type": "markdown",
   "id": "b9c6f112-0c45-4696-b8ca-17d4b783e178",
   "metadata": {
    "jp-MarkdownHeadingCollapsed": true
   },
   "source": [
    "## 4. Largest Palindrome Product\n",
    "\n",
    "Find the largest palindrome made from the product of two-3 digit numbers."
   ]
  },
  {
   "cell_type": "code",
   "execution_count": 6,
   "id": "989bb1a7-58ac-42e5-9e6a-457b0f1efc68",
   "metadata": {},
   "outputs": [
    {
     "data": {
      "text/plain": [
       "1798"
      ]
     },
     "execution_count": 6,
     "metadata": {},
     "output_type": "execute_result"
    }
   ],
   "source": [
    "def is_palindrome(ans):\n",
    "    if ans == ans[::-1]:\n",
    "        return True\n",
    "    else:\n",
    "        return False\n",
    "\n",
    "min_val = 100*100\n",
    "max_val = 999*999\n",
    "palindromes = []\n",
    "for i in range(min_val, max_val):\n",
    "    if is_palindrome(str(i)):\n",
    "        palindromes.append(i)\n",
    "len(palindromes)"
   ]
  },
  {
   "cell_type": "code",
   "execution_count": 7,
   "id": "483037ae-e42b-49cd-b733-553b8edd2d76",
   "metadata": {},
   "outputs": [
    {
     "data": {
      "text/plain": [
       "906609"
      ]
     },
     "execution_count": 7,
     "metadata": {},
     "output_type": "execute_result"
    }
   ],
   "source": [
    "# Now, this list can contain values that are not from 3 digit numbers\n",
    "\n",
    "results = []\n",
    "for num in palindromes:\n",
    "    for i in range(100,1000):\n",
    "        if(num%i==0 and len(str(int(num/i)))==3):\n",
    "            results.append(num)\n",
    "max(results)   "
   ]
  },
  {
   "cell_type": "markdown",
   "id": "d3d790b9-2925-451f-8fd5-8cd5fbb8621a",
   "metadata": {},
   "source": [
    "## 5. Smallest Multiple\n",
    "\n",
    "What is the smallest +ve number that is evenly divisible by all of the numbers from 1 to 20?\n",
    "\n",
    "---\n",
    "\n",
    "Find the list of all the prime numbers in the range.\n",
    "\n",
    "Then see the highest power of the prime numbers in the range.\n",
    "\n",
    "Multiply the highest powers, that will be the answer."
   ]
  },
  {
   "cell_type": "code",
   "execution_count": 8,
   "id": "ecd47ad7-9cf7-416a-a944-441534f8b508",
   "metadata": {},
   "outputs": [],
   "source": [
    "from math import sqrt\n",
    "def is_prime(num):\n",
    "    for i in range(2, int(sqrt(num))+1):\n",
    "        if num%i==0:\n",
    "            return False\n",
    "    return True"
   ]
  },
  {
   "cell_type": "code",
   "execution_count": 9,
   "id": "5a0fdd79-fb0b-4d67-992d-8dd6df6a7c3d",
   "metadata": {},
   "outputs": [
    {
     "data": {
      "text/plain": [
       "232792560.0"
      ]
     },
     "execution_count": 9,
     "metadata": {},
     "output_type": "execute_result"
    }
   ],
   "source": [
    "primes = []\n",
    "for i in range(2, 21):\n",
    "    if is_prime(i):\n",
    "        primes.append(i)\n",
    "\n",
    "for i in range(len(primes)):\n",
    "    num = primes[i]\n",
    "    ori = primes[i]\n",
    "    while(num < 21):\n",
    "        num = num*ori\n",
    "        \n",
    "    primes[i] = num/ori\n",
    "\n",
    "prod = 1\n",
    "for i in primes:\n",
    "    prod *= i\n",
    "prod"
   ]
  },
  {
   "cell_type": "markdown",
   "id": "403da84b-24c5-46ef-ba5d-3a7f74b99c0b",
   "metadata": {
    "jp-MarkdownHeadingCollapsed": true
   },
   "source": [
    "## 6. Sum Square difference\n",
    "\n",
    "Find the difference between the sum of the squares of the first one hundred natural numbers and the square of the sum."
   ]
  },
  {
   "cell_type": "code",
   "execution_count": 10,
   "id": "0b399680-3128-4903-856e-c6756b051072",
   "metadata": {},
   "outputs": [
    {
     "data": {
      "text/plain": [
       "25164150"
      ]
     },
     "execution_count": 10,
     "metadata": {},
     "output_type": "execute_result"
    }
   ],
   "source": [
    "# Using loop\n",
    "sum = 0\n",
    "sum_sq = 0\n",
    "for i in range(101):\n",
    "    sum += i\n",
    "    sum_sq += i**2\n",
    "\n",
    "result = sum**2 - sum_sq\n",
    "result"
   ]
  },
  {
   "cell_type": "code",
   "execution_count": 11,
   "id": "66f95036-8298-4ac1-98ca-ff53541d9761",
   "metadata": {},
   "outputs": [
    {
     "name": "stdout",
     "output_type": "stream",
     "text": [
      "25164150.0\n"
     ]
    }
   ],
   "source": [
    "# Using formula\n",
    "def diff(n):\n",
    "    sum = n*(n+1)/2\n",
    "    sum_sq = n*(n+1)*(2*n + 1)/6\n",
    "    result = sum**2 - sum_sq\n",
    "    return result\n",
    "\n",
    "print(diff(100))"
   ]
  }
 ],
 "metadata": {
  "kernelspec": {
   "display_name": "Python 3 (ipykernel)",
   "language": "python",
   "name": "python3"
  },
  "language_info": {
   "codemirror_mode": {
    "name": "ipython",
    "version": 3
   },
   "file_extension": ".py",
   "mimetype": "text/x-python",
   "name": "python",
   "nbconvert_exporter": "python",
   "pygments_lexer": "ipython3",
   "version": "3.12.2"
  }
 },
 "nbformat": 4,
 "nbformat_minor": 5
}
