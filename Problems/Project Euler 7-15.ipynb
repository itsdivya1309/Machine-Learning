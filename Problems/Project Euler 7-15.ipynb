{
 "cells": [
  {
   "cell_type": "markdown",
   "id": "6773427b-7bb5-4d70-a97d-9e37c11ec37a",
   "metadata": {
    "jp-MarkdownHeadingCollapsed": true
   },
   "source": [
    "## 7. 10001st Prime\n",
    "\n",
    "What is the 10001st prime number?"
   ]
  },
  {
   "cell_type": "code",
   "execution_count": 1,
   "id": "6d20f8f6-ba00-4907-b912-d637b775085c",
   "metadata": {},
   "outputs": [],
   "source": [
    "from math import sqrt\n",
    "def is_prime(num):\n",
    "    for i in range(2, int(sqrt(num))+1):\n",
    "        if (num%i==0):\n",
    "            return False\n",
    "    return True"
   ]
  },
  {
   "cell_type": "code",
   "execution_count": 2,
   "id": "7d790142-505c-4de4-870d-6f376b19e64e",
   "metadata": {},
   "outputs": [
    {
     "name": "stdout",
     "output_type": "stream",
     "text": [
      "10001\n",
      "104743\n"
     ]
    }
   ],
   "source": [
    "n = 1\n",
    "num = 3\n",
    "while(n<10001):\n",
    "    if is_prime(num):\n",
    "        n += 1\n",
    "        prime = num\n",
    "    num += 2\n",
    "print(n)\n",
    "print(prime)"
   ]
  },
  {
   "cell_type": "markdown",
   "id": "8e08a8d7-63be-47e2-896b-a50f7130e393",
   "metadata": {
    "jp-MarkdownHeadingCollapsed": true
   },
   "source": [
    "## 8. Largest Product in a Series\n",
    "\n",
    "Find the 13 adjacent digits in the 1000-digit number that have the greatest product. What is the value of this product?"
   ]
  },
  {
   "cell_type": "code",
   "execution_count": 3,
   "id": "d54cd7dd-14f8-4de5-a9f1-fc19d9af543c",
   "metadata": {},
   "outputs": [
    {
     "data": {
      "text/plain": [
       "1000"
      ]
     },
     "execution_count": 3,
     "metadata": {},
     "output_type": "execute_result"
    }
   ],
   "source": [
    "num = list(\n",
    "    '7316717653133062491922511967442657474235534919493496983520312774506326239578318016984801869478851843'\n",
    "    '8586156078911294949545950173795833195285320880551112540698747158523863050715693290963295227443043557'\n",
    "    '6689664895044524452316173185640309871112172238311362229893423380308135336276614282806444486645238749'\n",
    "    '3035890729629049156044077239071381051585930796086670172427121883998797908792274921901699720888093776'\n",
    "    '6572733300105336788122023542180975125454059475224352584907711670556013604839586446706324415722155397'\n",
    "    '5369781797784617406495514929086256932197846862248283972241375657056057490261407972968652414535100474'\n",
    "    '8216637048440319989000889524345065854122758866688116427171479924442928230863465674813919123162824586'\n",
    "    '1786645835912456652947654568284891288314260769004224219022671055626321111109370544217506941658960408'\n",
    "    '0719840385096245544436298123098787992724428490918884580156166097919133875499200524063689912560717606'\n",
    "    '0588611646710940507754100225698315520005593572972571636269561882670428252483600823257530420752963450'\n",
    ")\n",
    "num = list(map(int, num))\n",
    "len(num)"
   ]
  },
  {
   "cell_type": "code",
   "execution_count": 4,
   "id": "01e2216d-841f-4ac6-828f-c97be6e0f187",
   "metadata": {},
   "outputs": [
    {
     "name": "stdout",
     "output_type": "stream",
     "text": [
      "23514624000\n",
      "[[5, 5, 7, 6, 6, 8, 9, 6, 6, 4, 8, 9, 5]]\n"
     ]
    }
   ],
   "source": [
    "max_prod = 0\n",
    "for i in range(0, 987):\n",
    "    prod = num[i]\n",
    "    for j in range(1, 13):\n",
    "        prod *= num[i+j]\n",
    "    if (prod>max_prod):\n",
    "        max_prod = prod\n",
    "        val = [num[i:i+13]]\n",
    "\n",
    "print(max_prod)\n",
    "print(val)"
   ]
  },
  {
   "cell_type": "markdown",
   "id": "55084ff1-807f-4e9e-a86d-a16b41e82587",
   "metadata": {
    "jp-MarkdownHeadingCollapsed": true
   },
   "source": [
    "## 9. Special Pythagorean Triplet\n",
    "\n",
    "There exists exactly one Pythagorean triplet for which a + b + c = 1000. Find the product abc."
   ]
  },
  {
   "cell_type": "code",
   "execution_count": 5,
   "id": "adbd131f-a6fb-4981-b191-8a87d706efdd",
   "metadata": {},
   "outputs": [
    {
     "name": "stdout",
     "output_type": "stream",
     "text": [
      "(200, 375, 425)\n",
      "31875000\n"
     ]
    }
   ],
   "source": [
    "def get_triplet():\n",
    "    for c in range(335,997):\n",
    "        for a in range(1,333):\n",
    "            b = 1000 - a - c\n",
    "            if (a**2 + b**2 == c**2):\n",
    "                return (a,b,c)\n",
    "\n",
    "triplet = get_triplet()\n",
    "ans = 1\n",
    "for i in triplet:\n",
    "    ans *= i\n",
    "print(triplet)\n",
    "print(ans)"
   ]
  },
  {
   "cell_type": "markdown",
   "id": "ae74fd2b-fb9b-458a-84c4-f442220c4211",
   "metadata": {
    "jp-MarkdownHeadingCollapsed": true
   },
   "source": [
    "## 10. Summation of Primes\n",
    "\n",
    "Find the sum of all the primes below 2 million."
   ]
  },
  {
   "cell_type": "code",
   "execution_count": 6,
   "id": "8ba26d2c-3a6c-428f-8c95-49d875ccbc7b",
   "metadata": {},
   "outputs": [
    {
     "name": "stdout",
     "output_type": "stream",
     "text": [
      "142913828922\n"
     ]
    }
   ],
   "source": [
    "ans = 0\n",
    "for num in range(2, 2000000):\n",
    "    if is_prime(num):\n",
    "        ans += num\n",
    "print(ans)"
   ]
  },
  {
   "cell_type": "code",
   "execution_count": 7,
   "id": "e9ab049b-aa8b-417f-be49-ce00bd68a8ca",
   "metadata": {},
   "outputs": [
    {
     "name": "stdout",
     "output_type": "stream",
     "text": [
      "142913828922\n"
     ]
    }
   ],
   "source": [
    "# Using sieve of eratosthenes\n",
    "\n",
    "def prime_less_than(n):\n",
    "    is_prime = [True]*n\n",
    "    is_prime[0] = False\n",
    "    is_prime[1] = False\n",
    "    for i in range(2, int(sqrt(n))+1):\n",
    "        if is_prime[i]:\n",
    "            for j in range(i**2, n, i):\n",
    "                is_prime[j] = False\n",
    "    return [i for i in range(n) if is_prime[i]]\n",
    "\n",
    "# Solving this question\n",
    "sum = 0\n",
    "primes = prime_less_than(2000000)\n",
    "for i in primes:\n",
    "    sum += i\n",
    "print(sum)"
   ]
  },
  {
   "cell_type": "markdown",
   "id": "925728bf-f469-41c5-b69b-d4edd4607178",
   "metadata": {
    "jp-MarkdownHeadingCollapsed": true
   },
   "source": [
    "## 11. Largest Product in a Grid\n",
    "\n",
    "What is the greatest product of four adjacent numbers in the same direction (up, down, left, right or diagonally) in the 20 X 20 grid?"
   ]
  },
  {
   "cell_type": "code",
   "execution_count": 21,
   "id": "eed80a82-34fe-400c-aa09-c1be7168860c",
   "metadata": {},
   "outputs": [],
   "source": [
    "grid = '''08 02 22 97 38 15 00 40 00 75 04 05 07 78 52 12 50 77 91 08\n",
    "49 49 99 40 17 81 18 57 60 87 17 40 98 43 69 48 04 56 62 00\n",
    "81 49 31 73 55 79 14 29 93 71 40 67 53 88 30 03 49 13 36 65\n",
    "52 70 95 23 04 60 11 42 69 24 68 56 01 32 56 71 37 02 36 91\n",
    "22 31 16 71 51 67 63 89 41 92 36 54 22 40 40 28 66 33 13 80\n",
    "24 47 32 60 99 03 45 02 44 75 33 53 78 36 84 20 35 17 12 50\n",
    "32 98 81 28 64 23 67 10 26 38 40 67 59 54 70 66 18 38 64 70\n",
    "67 26 20 68 02 62 12 20 95 63 94 39 63 08 40 91 66 49 94 21\n",
    "24 55 58 05 66 73 99 26 97 17 78 78 96 83 14 88 34 89 63 72\n",
    "21 36 23 09 75 00 76 44 20 45 35 14 00 61 33 97 34 31 33 95\n",
    "78 17 53 28 22 75 31 67 15 94 03 80 04 62 16 14 09 53 56 92\n",
    "16 39 05 42 96 35 31 47 55 58 88 24 00 17 54 24 36 29 85 57\n",
    "86 56 00 48 35 71 89 07 05 44 44 37 44 60 21 58 51 54 17 58\n",
    "19 80 81 68 05 94 47 69 28 73 92 13 86 52 17 77 04 89 55 40\n",
    "04 52 08 83 97 35 99 16 07 97 57 32 16 26 26 79 33 27 98 66\n",
    "88 36 68 87 57 62 20 72 03 46 33 67 46 55 12 32 63 93 53 69\n",
    "04 42 16 73 38 25 39 11 24 94 72 18 08 46 29 32 40 62 76 36\n",
    "20 69 36 41 72 30 23 88 34 62 99 69 82 67 59 85 74 04 36 16\n",
    "20 73 35 29 78 31 90 01 74 31 49 71 48 86 81 16 23 57 05 54\n",
    "01 70 54 71 83 51 54 69 16 92 33 48 61 43 52 01 89 19 67 48'''"
   ]
  },
  {
   "cell_type": "code",
   "execution_count": 22,
   "id": "beb3d80a-85ea-465d-8ee9-288c0439e88b",
   "metadata": {},
   "outputs": [
    {
     "data": {
      "text/plain": [
       "20"
      ]
     },
     "execution_count": 22,
     "metadata": {},
     "output_type": "execute_result"
    }
   ],
   "source": [
    "def  word_to_int ( word :  str )  ->  int : \n",
    "    if  word [ 0 ]  ==  \"0\" : \n",
    "        return  int ( word [ 1 :]) \n",
    "    else : \n",
    "        return  int ( word )\n",
    "\n",
    "lines = grid.strip().split('\\n')\n",
    "cells  =  [[ word_to_int ( word )  for  word  in  line . split ()]  for  line  in  lines ]\n",
    "len(cells)"
   ]
  },
  {
   "cell_type": "code",
   "execution_count": 26,
   "id": "250fc250-42f3-459b-b1c3-075253a9d01c",
   "metadata": {},
   "outputs": [
    {
     "data": {
      "text/plain": [
       "70600674"
      ]
     },
     "execution_count": 26,
     "metadata": {},
     "output_type": "execute_result"
    }
   ],
   "source": [
    "def solution():\n",
    "    maximum  =  0\n",
    "\n",
    "    # Horizontal in row. \n",
    "    for  row_i  in  range ( 20 ): \n",
    "        for  col_i  in  range ( 16 ): \n",
    "            product  =  1 \n",
    "            for  i  in  range ( 4 ): \n",
    "                product  *=  cells [ row_i ][ col_i  +  i ] \n",
    "            maximum  =  max ( maximum ,  product )\n",
    "\n",
    "    # Vertical in column. \n",
    "    for  col_i  in  range ( 20 ): \n",
    "        for  row_i  in  range ( 16 ): \n",
    "            product  =  1 \n",
    "            for  i  in  range ( 4 ): \n",
    "                product  *=  cells [ row_i  +  i ][ col_i ] \n",
    "            maximum  =  max ( maximum ,  product )\n",
    "\n",
    "    # Diagonally. \n",
    "    for  row_i  in  range ( 16 ): \n",
    "        for  col_i  in  range ( 16 ): \n",
    "            product  =  1 \n",
    "            for  i  in  range ( 4 ): \n",
    "                product  *=  cells [ row_i  +  i ][ col_i  +  i ] \n",
    "            maximum  =  max ( maximum ,  product )\n",
    "\n",
    "    # Other diagonally. \n",
    "    for  row_i  in  range ( 3 ,  20 ): \n",
    "        for  col_i  in  range ( 16 ): \n",
    "            product  =  1 \n",
    "            for  i  in  range ( 4 ): \n",
    "                product  *=  cells [ row_i  -  i ][ col_i  +  i ] \n",
    "            maximum  =  max ( maximum ,  product )\n",
    "\n",
    "    return maximum\n",
    "\n",
    "solution()"
   ]
  },
  {
   "cell_type": "markdown",
   "id": "52d296ca-99dd-4cad-a645-7c038eb8426c",
   "metadata": {},
   "source": [
    "## 12. Highly Divisible Triangular Number\n",
    "\n",
    "Nth triangular number is the sum of first N natural numbers.\n",
    "\n",
    "`eg: 7h triangular number = 1+2+3+4+5+6+7 = 28`\n",
    "\n",
    "What is the value of the first triangular number to have over 500 divisors?"
   ]
  },
  {
   "cell_type": "code",
   "execution_count": 2,
   "id": "74a28b2f-f5c2-4787-8081-3c8653af2756",
   "metadata": {},
   "outputs": [],
   "source": [
    "def triang_number(n):\n",
    "    '''nth triangular number'''\n",
    "    num = n*(n+1)/2\n",
    "    return int(num)\n",
    "\n",
    "def divisors(num):\n",
    "    '''Count the number of divisors of a number'''\n",
    "    cnt = 0\n",
    "    for i in range(1,num+1):\n",
    "        if (num%i==0):\n",
    "            cnt +=1\n",
    "    return cnt"
   ]
  },
  {
   "cell_type": "code",
   "execution_count": 3,
   "id": "c94ee9e4-b1c2-4509-82b0-acbf365d69c5",
   "metadata": {},
   "outputs": [
    {
     "data": {
      "text/plain": [
       "28"
      ]
     },
     "execution_count": 3,
     "metadata": {},
     "output_type": "execute_result"
    }
   ],
   "source": [
    "triang_number(7)"
   ]
  },
  {
   "cell_type": "code",
   "execution_count": 4,
   "id": "b1fbe04f-4616-4598-b06a-0b4dc4d21757",
   "metadata": {},
   "outputs": [
    {
     "data": {
      "text/plain": [
       "6"
      ]
     },
     "execution_count": 4,
     "metadata": {},
     "output_type": "execute_result"
    }
   ],
   "source": [
    "divisors(28)"
   ]
  },
  {
   "cell_type": "code",
   "execution_count": 13,
   "id": "e12e8e14-a82d-48a3-98c8-322ffbc088d7",
   "metadata": {},
   "outputs": [
    {
     "data": {
      "text/plain": [
       "5000050000"
      ]
     },
     "execution_count": 13,
     "metadata": {},
     "output_type": "execute_result"
    }
   ],
   "source": [
    "triang_number(100000)"
   ]
  },
  {
   "cell_type": "code",
   "execution_count": null,
   "id": "8315484c-3070-4ad6-a2e5-8a0a7fa8100d",
   "metadata": {},
   "outputs": [],
   "source": [
    "divisor = 1\n",
    "n = 1\n",
    "while(divisor<=500):\n",
    "    n += 1\n",
    "    divisor = divisors(triang_number(n))\n",
    "print(n)\n",
    "print(divisor)"
   ]
  },
  {
   "cell_type": "code",
   "execution_count": 1,
   "id": "4ede971c-8d07-431f-b4fc-e1cd959952c9",
   "metadata": {},
   "outputs": [
    {
     "name": "stdout",
     "output_type": "stream",
     "text": [
      "result 76576500.0 returned in 1.2873971462249756 seconds.\n"
     ]
    }
   ],
   "source": [
    "import time\n",
    "\n",
    "\n",
    "def num_divisors(n):\n",
    "    if n % 2 == 0: n = n / 2\n",
    "    divisors = 1\n",
    "    count = 0\n",
    "    while n % 2 == 0:\n",
    "        count += 1\n",
    "        n = n / 2\n",
    "    divisors = divisors * (count + 1)\n",
    "    p = 3\n",
    "    while n != 1:\n",
    "        count = 0\n",
    "        while n % p == 0:\n",
    "            count += 1\n",
    "            n = n / p\n",
    "        divisors = divisors * (count + 1)\n",
    "        p += 2\n",
    "    return divisors\n",
    "\n",
    "\n",
    "def find_triangular_index(factor_limit):\n",
    "    n = 1\n",
    "    lnum, rnum = num_divisors(n), num_divisors(n + 1)\n",
    "    while lnum * rnum < 500:\n",
    "        n += 1\n",
    "        lnum, rnum = rnum, num_divisors(n + 1)\n",
    "    return n\n",
    "\n",
    "\n",
    "start = time.time()\n",
    "index = find_triangular_index(500)\n",
    "triangle = (index * (index + 1)) / 2\n",
    "elapsed = (time.time() - start)\n",
    "\n",
    "print(\"result %s returned in %s seconds.\" % (triangle, elapsed))"
   ]
  },
  {
   "cell_type": "code",
   "execution_count": null,
   "id": "cd9615a0-570a-4eb1-a002-b5e4b13d1abb",
   "metadata": {},
   "outputs": [],
   "source": []
  }
 ],
 "metadata": {
  "kernelspec": {
   "display_name": "Python 3 (ipykernel)",
   "language": "python",
   "name": "python3"
  },
  "language_info": {
   "codemirror_mode": {
    "name": "ipython",
    "version": 3
   },
   "file_extension": ".py",
   "mimetype": "text/x-python",
   "name": "python",
   "nbconvert_exporter": "python",
   "pygments_lexer": "ipython3",
   "version": "3.12.2"
  }
 },
 "nbformat": 4,
 "nbformat_minor": 5
}
