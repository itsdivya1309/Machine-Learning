{
 "cells": [
  {
   "cell_type": "markdown",
   "id": "6773427b-7bb5-4d70-a97d-9e37c11ec37a",
   "metadata": {},
   "source": [
    "## 7. 10001st Prime\n",
    "\n",
    "What is the 10001st prime number?"
   ]
  },
  {
   "cell_type": "code",
   "execution_count": 1,
   "id": "6d20f8f6-ba00-4907-b912-d637b775085c",
   "metadata": {},
   "outputs": [],
   "source": [
    "from math import sqrt\n",
    "def is_prime(num):\n",
    "    for i in range(2, int(sqrt(num))+1):\n",
    "        if (num%i==0):\n",
    "            return False\n",
    "    return True"
   ]
  },
  {
   "cell_type": "code",
   "execution_count": 7,
   "id": "7d790142-505c-4de4-870d-6f376b19e64e",
   "metadata": {},
   "outputs": [
    {
     "name": "stdout",
     "output_type": "stream",
     "text": [
      "10001\n",
      "104743\n"
     ]
    }
   ],
   "source": [
    "n = 1\n",
    "num = 3\n",
    "while(n<10001):\n",
    "    if is_prime(num):\n",
    "        n += 1\n",
    "        prime = num\n",
    "    num += 2\n",
    "print(n)\n",
    "print(prime)"
   ]
  },
  {
   "cell_type": "markdown",
   "id": "8e08a8d7-63be-47e2-896b-a50f7130e393",
   "metadata": {},
   "source": [
    "## 8. Largest Product in a Series\n",
    "\n",
    "Find the 13 adjacent digits in the 1000-digit number that have the greatest product. What is the value of this product?"
   ]
  },
  {
   "cell_type": "code",
   "execution_count": 29,
   "id": "d54cd7dd-14f8-4de5-a9f1-fc19d9af543c",
   "metadata": {},
   "outputs": [
    {
     "data": {
      "text/plain": [
       "1000"
      ]
     },
     "execution_count": 29,
     "metadata": {},
     "output_type": "execute_result"
    }
   ],
   "source": [
    "num = list(\n",
    "    '7316717653133062491922511967442657474235534919493496983520312774506326239578318016984801869478851843'\n",
    "    '8586156078911294949545950173795833195285320880551112540698747158523863050715693290963295227443043557'\n",
    "    '6689664895044524452316173185640309871112172238311362229893423380308135336276614282806444486645238749'\n",
    "    '3035890729629049156044077239071381051585930796086670172427121883998797908792274921901699720888093776'\n",
    "    '6572733300105336788122023542180975125454059475224352584907711670556013604839586446706324415722155397'\n",
    "    '5369781797784617406495514929086256932197846862248283972241375657056057490261407972968652414535100474'\n",
    "    '8216637048440319989000889524345065854122758866688116427171479924442928230863465674813919123162824586'\n",
    "    '1786645835912456652947654568284891288314260769004224219022671055626321111109370544217506941658960408'\n",
    "    '0719840385096245544436298123098787992724428490918884580156166097919133875499200524063689912560717606'\n",
    "    '0588611646710940507754100225698315520005593572972571636269561882670428252483600823257530420752963450'\n",
    ")\n",
    "num = list(map(int, num))\n",
    "len(num)"
   ]
  },
  {
   "cell_type": "code",
   "execution_count": 30,
   "id": "01e2216d-841f-4ac6-828f-c97be6e0f187",
   "metadata": {},
   "outputs": [
    {
     "name": "stdout",
     "output_type": "stream",
     "text": [
      "23514624000\n",
      "[[5, 5, 7, 6, 6, 8, 9, 6, 6, 4, 8, 9, 5]]\n"
     ]
    }
   ],
   "source": [
    "max_prod = 0\n",
    "for i in range(0, 987):\n",
    "    prod = num[i]\n",
    "    for j in range(1, 13):\n",
    "        prod *= num[i+j]\n",
    "    if (prod>max_prod):\n",
    "        max_prod = prod\n",
    "        val = [num[i:i+13]]\n",
    "\n",
    "print(max_prod)\n",
    "print(val)"
   ]
  },
  {
   "cell_type": "markdown",
   "id": "55084ff1-807f-4e9e-a86d-a16b41e82587",
   "metadata": {},
   "source": [
    "## 9. Special Pythagorean Triplet\n",
    "\n",
    "There exists exactly one Pythagorean triplet for which a + b + c = 1000. Find the product abc."
   ]
  },
  {
   "cell_type": "code",
   "execution_count": 34,
   "id": "adbd131f-a6fb-4981-b191-8a87d706efdd",
   "metadata": {},
   "outputs": [
    {
     "name": "stdout",
     "output_type": "stream",
     "text": [
      "(200, 375, 425)\n",
      "31875000\n"
     ]
    }
   ],
   "source": [
    "def get_triplet():\n",
    "    for c in range(335,997):\n",
    "        for a in range(1,333):\n",
    "            b = 1000 - a - c\n",
    "            if (a**2 + b**2 == c**2):\n",
    "                return (a,b,c)\n",
    "\n",
    "triplet = get_triplet()\n",
    "ans = 1\n",
    "for i in triplet:\n",
    "    ans *= i\n",
    "print(triplet)\n",
    "print(ans)"
   ]
  },
  {
   "cell_type": "markdown",
   "id": "ae74fd2b-fb9b-458a-84c4-f442220c4211",
   "metadata": {},
   "source": [
    "## 10. Summation of Primes\n",
    "\n",
    "Find the sum of all the primes below 2 million."
   ]
  },
  {
   "cell_type": "code",
   "execution_count": 35,
   "id": "8ba26d2c-3a6c-428f-8c95-49d875ccbc7b",
   "metadata": {},
   "outputs": [
    {
     "name": "stdout",
     "output_type": "stream",
     "text": [
      "142913828922\n"
     ]
    }
   ],
   "source": [
    "ans = 0\n",
    "for num in range(2, 2000000):\n",
    "    if is_prime(num):\n",
    "        ans += num\n",
    "print(ans)"
   ]
  },
  {
   "cell_type": "code",
   "execution_count": 38,
   "id": "e9ab049b-aa8b-417f-be49-ce00bd68a8ca",
   "metadata": {},
   "outputs": [
    {
     "name": "stdout",
     "output_type": "stream",
     "text": [
      "142913828922\n"
     ]
    }
   ],
   "source": [
    "# Using sieve of eratosthenes\n",
    "\n",
    "def prime_less_than(n):\n",
    "    is_prime = [True]*n\n",
    "    is_prime[0] = False\n",
    "    is_prime[1] = False\n",
    "    for i in range(2, int(sqrt(n))+1):\n",
    "        if is_prime[i]:\n",
    "            for j in range(i**2, n, i):\n",
    "                is_prime[j] = False\n",
    "    return [i for i in range(n) if is_prime[i]]\n",
    "\n",
    "# Solving this question\n",
    "sum = 0\n",
    "primes = prime_less_than(2000000)\n",
    "for i in primes:\n",
    "    sum += i\n",
    "print(sum)"
   ]
  },
  {
   "cell_type": "code",
   "execution_count": null,
   "id": "533b8614-b7f7-44e7-a82b-50907af1339f",
   "metadata": {},
   "outputs": [],
   "source": []
  }
 ],
 "metadata": {
  "kernelspec": {
   "display_name": "Python 3 (ipykernel)",
   "language": "python",
   "name": "python3"
  },
  "language_info": {
   "codemirror_mode": {
    "name": "ipython",
    "version": 3
   },
   "file_extension": ".py",
   "mimetype": "text/x-python",
   "name": "python",
   "nbconvert_exporter": "python",
   "pygments_lexer": "ipython3",
   "version": "3.12.2"
  }
 },
 "nbformat": 4,
 "nbformat_minor": 5
}
