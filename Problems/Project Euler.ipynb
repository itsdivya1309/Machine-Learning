{
 "cells": [
  {
   "cell_type": "markdown",
   "id": "45fe8b4b-dc59-4aef-ba2c-8f7faa6b7a0f",
   "metadata": {
    "jp-MarkdownHeadingCollapsed": true
   },
   "source": [
    "## 1. Multiples of 3 or 5\n",
    "\n",
    "Find the sum of all the multiples of 3 or 5 below 1000.\n",
    "\n",
    "---\n",
    "The problem has two parts:\n",
    "1. Find the sum of AP\n",
    "2. To find the sum of AP, I need to find the nth term of the AP.\n",
    "\n",
    "---\n",
    "Answer = sum of multiples of 3 + sum of multiples of 5 - sum of multiples of both(15)"
   ]
  },
  {
   "cell_type": "code",
   "execution_count": 4,
   "id": "95f8dd4d-c082-4b2b-8633-4709adba8e4e",
   "metadata": {},
   "outputs": [],
   "source": [
    "def last_term_of_AP(d, l):\n",
    "    l = l-1\n",
    "    while(l>0):\n",
    "        if(l%d!=0):\n",
    "            l -= l%d\n",
    "        else:\n",
    "            return l\n",
    "\n",
    "def terms_in_AP(a,l,d):\n",
    "    n = ((l-a)/d) + 1\n",
    "    return n\n",
    "\n",
    "def sum_of_AP(a,d,n):\n",
    "    sum = n*(2*a + (n-1)*d)/2\n",
    "    return sum"
   ]
  },
  {
   "cell_type": "code",
   "execution_count": 5,
   "id": "e17c52ff-879e-4643-b673-9a9d5f224200",
   "metadata": {},
   "outputs": [
    {
     "data": {
      "text/plain": [
       "233168.0"
      ]
     },
     "execution_count": 5,
     "metadata": {},
     "output_type": "execute_result"
    }
   ],
   "source": [
    "# Solution to the problem\n",
    "l_3 = last_term_of_AP(3, 1000)\n",
    "n_3 = terms_in_AP(3,l_3,3)\n",
    "s_3 = sum_of_AP(3, 3, n_3)\n",
    "\n",
    "l_5 = last_term_of_AP(5, 1000)\n",
    "n_5 = terms_in_AP(5,l_5,5)\n",
    "s_5 = sum_of_AP(5, 5, n_5)\n",
    "\n",
    "l_15 = last_term_of_AP(15, 1000)\n",
    "n_15 = terms_in_AP(15,l_15,15)\n",
    "s_15 = sum_of_AP(15, 15, n_15)\n",
    "\n",
    "answer = s_3 + s_5 - s_15\n",
    "answer"
   ]
  },
  {
   "cell_type": "markdown",
   "id": "2f7fe3b9-1757-4a29-89dd-b92a19e156b7",
   "metadata": {},
   "source": [
    "But this was the mathematical solution. For programming, we can do the following:"
   ]
  },
  {
   "cell_type": "code",
   "execution_count": 6,
   "id": "2845e84c-5db1-4963-a453-a8fab9cfc2f3",
   "metadata": {},
   "outputs": [
    {
     "data": {
      "text/plain": [
       "233168"
      ]
     },
     "execution_count": 6,
     "metadata": {},
     "output_type": "execute_result"
    }
   ],
   "source": [
    "result = 0\n",
    "for i in range(1000):\n",
    "    if (i%3==0) or (i%5==0):\n",
    "        result += i\n",
    "result"
   ]
  },
  {
   "cell_type": "markdown",
   "id": "5b472200-3ecf-4838-9eb6-1707c2c74a22",
   "metadata": {
    "jp-MarkdownHeadingCollapsed": true
   },
   "source": [
    "## 2. Even Fibonacci numbers\n",
    "\n",
    "Consider the terms in the Fibonacci sequence whose values do not exceed four million, find the sum of the even-valued terms."
   ]
  },
  {
   "cell_type": "code",
   "execution_count": 7,
   "id": "a4720b3d-8df8-42aa-86da-54484d08ec0e",
   "metadata": {},
   "outputs": [
    {
     "data": {
      "text/plain": [
       "4613732"
      ]
     },
     "execution_count": 7,
     "metadata": {},
     "output_type": "execute_result"
    }
   ],
   "source": [
    "a = 1\n",
    "b = 2\n",
    "result = 2\n",
    "c = a + b\n",
    "while(c<4000000):\n",
    "    c = a + b\n",
    "    a = b\n",
    "    b = c\n",
    "    if (c%2==0):\n",
    "        result += c\n",
    "result"
   ]
  },
  {
   "cell_type": "markdown",
   "id": "d63f8c62-24c2-490f-b02d-86048c822b35",
   "metadata": {},
   "source": [
    "## 3. Largest Prime Factor\n",
    "\n",
    "What is the largest prime factor of the number 600851475143?.\n",
    "\n",
    "---\n",
    "Find all the factors of the number and then find the biggest prime number, but this process is very slow.\n",
    "\n",
    "Instead directly find the prime factors."
   ]
  },
  {
   "cell_type": "code",
   "execution_count": null,
   "id": "28d2b6fd-d884-438e-be4a-ba3401c53520",
   "metadata": {},
   "outputs": [],
   "source": [
    "# Brute force approach\n",
    "def factors(n):\n",
    "    factors = []\n",
    "    for i in range(2, n//2):\n",
    "        if (n%i==0):\n",
    "            factors.append(i)\n",
    "    return factors\n",
    "\n",
    "print(factors(600851475143))\n",
    "                "
   ]
  },
  {
   "cell_type": "code",
   "execution_count": 5,
   "id": "aea76ff4-069a-46af-ad61-c7e8b778cc07",
   "metadata": {},
   "outputs": [
    {
     "name": "stdout",
     "output_type": "stream",
     "text": [
      "True\n",
      "True\n",
      "True\n",
      "True\n",
      "False\n",
      "False\n",
      "False\n",
      "False\n",
      "False\n",
      "False\n",
      "False\n",
      "False\n",
      "False\n",
      "False\n"
     ]
    }
   ],
   "source": [
    "def is_prime(n):\n",
    "    for i in range(2, n//2):\n",
    "        if n%i==0:\n",
    "            return False\n",
    "    return True\n",
    "\n",
    "for i in factors(13195):\n",
    "    print(is_prime(i))"
   ]
  },
  {
   "cell_type": "code",
   "execution_count": 3,
   "id": "5efc6564-1853-456a-9dd8-f7c02250316f",
   "metadata": {},
   "outputs": [
    {
     "name": "stdout",
     "output_type": "stream",
     "text": [
      "[71, 839, 1471, 6857]\n"
     ]
    }
   ],
   "source": [
    "from math import sqrt\n",
    "def prime_factors(n):\n",
    "    factors = []\n",
    "    for i in range(2, int(sqrt(n))+1):\n",
    "        if (n%i==0):\n",
    "            factors.append(i)\n",
    "            n /= i\n",
    "    return factors\n",
    "\n",
    "print(prime_factors(600851475143))"
   ]
  },
  {
   "cell_type": "markdown",
   "id": "403da84b-24c5-46ef-ba5d-3a7f74b99c0b",
   "metadata": {},
   "source": [
    "## 6. Sum Square difference\n",
    "\n",
    "Find the difference between the sum of the squares of the first one hundred natural numbers and the square of the sum."
   ]
  },
  {
   "cell_type": "code",
   "execution_count": 1,
   "id": "0b399680-3128-4903-856e-c6756b051072",
   "metadata": {},
   "outputs": [
    {
     "data": {
      "text/plain": [
       "25164150"
      ]
     },
     "execution_count": 1,
     "metadata": {},
     "output_type": "execute_result"
    }
   ],
   "source": [
    "# Using loop\n",
    "sum = 0\n",
    "sum_sq = 0\n",
    "for i in range(101):\n",
    "    sum += i\n",
    "    sum_sq += i**2\n",
    "\n",
    "result = sum**2 - sum_sq\n",
    "result"
   ]
  },
  {
   "cell_type": "code",
   "execution_count": 2,
   "id": "66f95036-8298-4ac1-98ca-ff53541d9761",
   "metadata": {},
   "outputs": [
    {
     "name": "stdout",
     "output_type": "stream",
     "text": [
      "25164150.0\n"
     ]
    }
   ],
   "source": [
    "# Using formula\n",
    "def diff(n):\n",
    "    sum = n*(n+1)/2\n",
    "    sum_sq = n*(n+1)*(2*n + 1)/6\n",
    "    result = sum**2 - sum_sq\n",
    "    return result\n",
    "\n",
    "print(diff(100))"
   ]
  },
  {
   "cell_type": "code",
   "execution_count": 5,
   "id": "7bef1061-18e4-4472-945c-bd17d63681e3",
   "metadata": {},
   "outputs": [
    {
     "name": "stdout",
     "output_type": "stream",
     "text": [
      "1\n"
     ]
    }
   ],
   "source": [
    "for i in range(1,10):\n",
    "    if (i%2==0):\n",
    "        continue\n",
    "    print(i)"
   ]
  },
  {
   "cell_type": "code",
   "execution_count": 7,
   "id": "ba65030b-d42f-4222-a015-a92c2884040c",
   "metadata": {},
   "outputs": [
    {
     "name": "stdout",
     "output_type": "stream",
     "text": [
      "1\n",
      "2\n",
      "3\n",
      "4\n",
      "5\n",
      "6\n",
      "7\n",
      "8\n",
      "9\n",
      "10\n",
      "11\n",
      "12\n",
      "13\n",
      "14\n",
      "15\n",
      "16\n",
      "17\n",
      "18\n",
      "19\n"
     ]
    }
   ],
   "source": [
    "for j in range(1,20):\n",
    "    for i in range(1,10):\n",
    "        if (i%2==0):\n",
    "            break\n",
    "    print(j)"
   ]
  },
  {
   "cell_type": "code",
   "execution_count": null,
   "id": "0f802c99-76d7-4b9a-b766-12e88b350f01",
   "metadata": {},
   "outputs": [],
   "source": []
  }
 ],
 "metadata": {
  "kernelspec": {
   "display_name": "Python 3 (ipykernel)",
   "language": "python",
   "name": "python3"
  },
  "language_info": {
   "codemirror_mode": {
    "name": "ipython",
    "version": 3
   },
   "file_extension": ".py",
   "mimetype": "text/x-python",
   "name": "python",
   "nbconvert_exporter": "python",
   "pygments_lexer": "ipython3",
   "version": "3.12.2"
  }
 },
 "nbformat": 4,
 "nbformat_minor": 5
}
