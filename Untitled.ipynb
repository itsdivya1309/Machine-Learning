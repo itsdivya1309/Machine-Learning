{
 "cells": [
  {
   "cell_type": "code",
   "execution_count": 1,
   "id": "7c493103-8c14-4fce-afab-4cc887ca256d",
   "metadata": {},
   "outputs": [],
   "source": [
    "N = 5\n",
    "A = [1,2,3,4,5]"
   ]
  },
  {
   "cell_type": "code",
   "execution_count": 4,
   "id": "5b632aeb-01dd-4726-bc29-55ad2684996e",
   "metadata": {},
   "outputs": [
    {
     "data": {
      "text/plain": [
       "[3, 3, 3, 3, 3]"
      ]
     },
     "execution_count": 4,
     "metadata": {},
     "output_type": "execute_result"
    }
   ],
   "source": [
    "# Each frnd can call N-2 frnds\n",
    "# So, we add the distance of nearest N-2 frnds\n",
    "\n",
    "ans = []\n",
    "for i in range(N):\n",
    "    cnt = 0\n",
    "    n = N-2\n",
    "    while(n>0):\n",
    "        if(i==0):\n",
    "            cnt += A[i+1]- A[i]\n",
    "            n -= 1\n",
    "        if(i>0):\n",
    "            cnt += A[i]-A[i-1]\n",
    "            n -= 1\n",
    "    ans.append(cnt)\n",
    "ans"
   ]
  },
  {
   "cell_type": "code",
   "execution_count": null,
   "id": "25431c7f-3838-4182-8305-b125502cd97a",
   "metadata": {},
   "outputs": [],
   "source": []
  }
 ],
 "metadata": {
  "kernelspec": {
   "display_name": "Python 3 (ipykernel)",
   "language": "python",
   "name": "python3"
  },
  "language_info": {
   "codemirror_mode": {
    "name": "ipython",
    "version": 3
   },
   "file_extension": ".py",
   "mimetype": "text/x-python",
   "name": "python",
   "nbconvert_exporter": "python",
   "pygments_lexer": "ipython3",
   "version": "3.11.7"
  }
 },
 "nbformat": 4,
 "nbformat_minor": 5
}
