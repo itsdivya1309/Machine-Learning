{
  "nbformat": 4,
  "nbformat_minor": 0,
  "metadata": {
    "colab": {
      "name": "k-Nearest Neighbors.ipynb",
      "provenance": [],
      "collapsed_sections": []
    },
    "kernelspec": {
      "name": "python3",
      "display_name": "Python 3"
    },
    "language_info": {
      "name": "python"
    }
  },
  "cells": [
    {
      "cell_type": "markdown",
      "source": [
        "Building the model consists only of storing the training dataset. \n",
        "\n",
        "To make a prediction for a new data point, the algorithm finds the closest data points in the training dataset—its “nearest neighbors.”"
      ],
      "metadata": {
        "id": "eqcSXmvLPKCB"
      }
    },
    {
      "cell_type": "markdown",
      "source": [
        "**k-Nearest Classifier**"
      ],
      "metadata": {
        "id": "bvkPQTTjPAdv"
      }
    },
    {
      "cell_type": "code",
      "source": [
        "#importing the modules\n",
        "import numpy as np\n",
        "import pandas as pd\n",
        "import matplotlib.pyplot as plt\n",
        "import scipy as sp\n",
        "import sklearn"
      ],
      "metadata": {
        "id": "zpRbccUwP1U_"
      },
      "execution_count": null,
      "outputs": []
    },
    {
      "cell_type": "code",
      "source": [
        "#Making a dataset\n",
        "\n",
        "from sklearn.datasets import make_blobs\n",
        "def make_forge():       \n",
        "    # a carefully hand-designed dataset lol\n",
        "    X, y = make_blobs(centers=2, random_state=4, n_samples=30)\n",
        "    y[np.array([7, 27])] = 0\n",
        "    mask = np.ones(len(X), dtype=bool)\n",
        "    mask[np.array([0, 1, 5, 26])] = 0\n",
        "    X, y = X[mask], y[mask]\n",
        "    return X, y"
      ],
      "metadata": {
        "id": "Y7cvZce0PEVV"
      },
      "execution_count": null,
      "outputs": []
    },
    {
      "cell_type": "code",
      "source": [
        "#First, we split our data into a training and a test set \n",
        "#so we can evaluate generalization performance\n",
        "\n",
        "\n",
        "from sklearn.model_selection import train_test_split\n",
        "X,y=make_forge()\n",
        "X_train,X_test,y_train,y_test=train_test_split(X,y,random_state=0)"
      ],
      "metadata": {
        "id": "icIS5xE5Pwg5"
      },
      "execution_count": null,
      "outputs": []
    },
    {
      "cell_type": "code",
      "source": [
        "#Next, we import and instantiate the class, this is when we can set parameters\n",
        "from sklearn.neighbors import KNeighborsClassifier\n",
        "knn=KNeighborsClassifier(n_neighbors=3)"
      ],
      "metadata": {
        "id": "CQ5G0dh_Qzpg"
      },
      "execution_count": null,
      "outputs": []
    },
    {
      "cell_type": "code",
      "source": [
        "#Now, we fit the classifier using the training set. \n",
        "#For KNeighborsClassifier this means storing the dataset\n",
        "\n",
        "knn.fit(X_train,y_train)"
      ],
      "metadata": {
        "colab": {
          "base_uri": "https://localhost:8080/"
        },
        "id": "rHKv5T4WRmmp",
        "outputId": "5182ce02-a529-4852-94dd-aa0b23b6eed8"
      },
      "execution_count": null,
      "outputs": [
        {
          "output_type": "execute_result",
          "data": {
            "text/plain": [
              "KNeighborsClassifier(n_neighbors=3)"
            ]
          },
          "metadata": {},
          "execution_count": 5
        }
      ]
    },
    {
      "cell_type": "code",
      "source": [
        "#To make predictions on the test data, we call the predict method.\n",
        "\n",
        "print(\"The predictions on the test set are :\\n{}\".format(knn.predict(X_test)))"
      ],
      "metadata": {
        "id": "pCWKkabbSlZQ",
        "colab": {
          "base_uri": "https://localhost:8080/"
        },
        "outputId": "4352e0f5-e90c-4f6b-988a-34f1d7084eb0"
      },
      "execution_count": null,
      "outputs": [
        {
          "output_type": "stream",
          "name": "stdout",
          "text": [
            "The predictions on the test set are :\n",
            "[1 0 1 0 1 0 0]\n"
          ]
        }
      ]
    },
    {
      "cell_type": "code",
      "source": [
        "#To evaluate how well our model generalizes, \n",
        "#we can call the score method with the test data together with the test labels:\n",
        "\n",
        "print('Test set accuracy : {:.2f}'.format(knn.score(X_test,y_test)))"
      ],
      "metadata": {
        "colab": {
          "base_uri": "https://localhost:8080/"
        },
        "id": "poT4YsAzX_KO",
        "outputId": "4885fb7b-56ad-4f06-8843-f0de12c77841"
      },
      "execution_count": null,
      "outputs": [
        {
          "output_type": "stream",
          "name": "stdout",
          "text": [
            "Test set accuracy : 0.86\n"
          ]
        }
      ]
    },
    {
      "cell_type": "markdown",
      "source": [
        "**k-Neighbors Regression**"
      ],
      "metadata": {
        "id": "vik2yF55cYbm"
      }
    },
    {
      "cell_type": "code",
      "source": [
        "# The prediction using a single neighbor is \n",
        "#just the target value of the nearest neighbor.\n",
        "#When using multiple nearest neighbors, the prediction is \n",
        "#the average, or mean, of the relevant neighbors\n",
        "#The k-nearest neighbors algorithm for regression is implemented in the \n",
        "#KNeighborsRegressor class in scikit-learn.\n",
        "\n",
        "from sklearn.neighbors import KNeighborsRegressor\n",
        "\n",
        "\n",
        "#creating dataset \n",
        "\n",
        "def make_wave(n_samples=100):\n",
        "    rnd = np.random.RandomState(42)\n",
        "    x = rnd.uniform(-3, 3, size=n_samples)\n",
        "    y_no_noise = (np.sin(4 * x) + x)\n",
        "    y = (y_no_noise + rnd.normal(size=len(x))) / 2\n",
        "    return x.reshape(-1, 1), y\n",
        "\n",
        "  #Creating testset and train set\n",
        "X,y=make_wave(n_samples=60)\n",
        "X_train,X_test,y_train,y_test=train_test_split(X,y,random_state=0)\n"
      ],
      "metadata": {
        "id": "8hz-fBgQbY1I"
      },
      "execution_count": null,
      "outputs": []
    },
    {
      "cell_type": "code",
      "source": [
        "#instantiate the model and set the neighbors to be considered to 3\n",
        "\n",
        "reg=KNeighborsRegressor(n_neighbors=3)\n",
        "\n",
        "\n",
        "#fit the model using the training dataset and training target\n",
        "\n",
        "reg.fit(X_train,y_train)"
      ],
      "metadata": {
        "colab": {
          "base_uri": "https://localhost:8080/"
        },
        "id": "p3T9D-5QTldL",
        "outputId": "08639432-0257-409f-ecef-f95d03f239e5"
      },
      "execution_count": null,
      "outputs": [
        {
          "output_type": "execute_result",
          "data": {
            "text/plain": [
              "KNeighborsRegressor(n_neighbors=3)"
            ]
          },
          "metadata": {},
          "execution_count": 23
        }
      ]
    },
    {
      "cell_type": "code",
      "source": [
        "#Predicting the outcome for test data\n",
        "\n",
        "reg.predict(X_test)"
      ],
      "metadata": {
        "colab": {
          "base_uri": "https://localhost:8080/"
        },
        "id": "Hn_LaOn5UmX2",
        "outputId": "66a9efa9-30f4-44bb-b34a-581d7c160d12"
      },
      "execution_count": null,
      "outputs": [
        {
          "output_type": "execute_result",
          "data": {
            "text/plain": [
              "array([-1.48111563,  0.70792211, -0.18289804,  0.70624175,  0.74912844,\n",
              "        0.50442638,  0.74912844, -0.40989144, -1.13013686, -0.42316952,\n",
              "       -1.40093968, -0.40989144,  0.80969902,  0.67223847,  0.74912844])"
            ]
          },
          "metadata": {},
          "execution_count": 24
        }
      ]
    },
    {
      "cell_type": "code",
      "source": [
        "#We can evaluate the model using score method which returns R2 value.\n",
        "#The R2 score, also known as the coefficient of determination, \n",
        "#is a measure of goodness of a prediction for a regression model, \n",
        "#and yields a score between 0 and 1.\n",
        "\n",
        "print(\"Score of the model :\\n{:.2f}\".format(reg.score(X_test,y_test)))"
      ],
      "metadata": {
        "colab": {
          "base_uri": "https://localhost:8080/"
        },
        "id": "X9FWge5LVH0x",
        "outputId": "22735e20-1798-494e-8fb0-f2c5e7d21838"
      },
      "execution_count": null,
      "outputs": [
        {
          "output_type": "stream",
          "name": "stdout",
          "text": [
            "Score of the model :\n",
            "0.56\n"
          ]
        }
      ]
    },
    {
      "cell_type": "markdown",
      "source": [
        "The KNN algorithm assumes that similar things exist in close proximity. In other words, similar things are near to each other.\n",
        "\n",
        "“Birds of a feather flock together.”"
      ],
      "metadata": {
        "id": "oRed_wIyYiWY"
      }
    },
    {
      "cell_type": "code",
      "source": [
        ""
      ],
      "metadata": {
        "id": "BU5rYR-IWHl-"
      },
      "execution_count": null,
      "outputs": []
    }
  ]
}